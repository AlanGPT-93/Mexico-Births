{
 "cells": [
  {
   "cell_type": "code",
   "execution_count": 1,
   "metadata": {},
   "outputs": [],
   "source": [
    "# importing libraries\n",
    "from zipfile import ZipFile\n",
    "import numpy as np\n",
    "import openpyxl\n",
    "import pandas as pd\n"
   ]
  },
  {
   "cell_type": "code",
   "execution_count": 4,
   "metadata": {},
   "outputs": [],
   "source": [
    "def read_zip(year):\n",
    "    # specifying the zip file directory\n",
    "    file_name = f\"/mnt/d/Mexico_Births/sinac_{year}.zip\"\n",
    "    \n",
    "    # opening the zip file in READ mode\n",
    "    with ZipFile(file_name, 'r') as zip:\n",
    "        # listing all the contents of the zip file\n",
    "        file_list = zip.filelist\n",
    "        # getting a DataFrame from the file in the index 0\n",
    "        data = pd.read_csv(zip.open(file_list[0].filename) )\n",
    "    return data"
   ]
  },
  {
   "cell_type": "code",
   "execution_count": 48,
   "metadata": {},
   "outputs": [],
   "source": [
    "# columns names for different year \n",
    "columns_20 = [\"EDAD\",\"ESTADOCONYUGAL\",\"ESCOLARIDAD\",\"CLAVEOCUPACIONHABITUAL\",\"FECHANACIMIENTO\",\\\n",
    "    \"HORANACIMIENTO\", \"SEXO\", \"TALLA\", \"PESO\", \"CLUES\", \"ENTIDADFEDERATIVAPARTO\", \"MUNICIPIOPARTO\",\\\n",
    "\"LOCALIDADPARTO\"]\n",
    "\n",
    "columns_19 = [\"EDADM\",\"EDOCIVIL\",\"NIV_ESCOL\",\"CVEOCUPHAB\",\"FECH_NACH\",\\\n",
    "    \"HORA_NACH\", \"SEXOH\", \"TALLAH\", \"PESOH\", \"CLUES\", \"ENT_NAC\", \"MPO_NAC\",\\\n",
    "\"LOC_NAC\"]\n",
    "\n",
    "columns_16 = [\"edad_madre\",\"estado_conyugal\",\"escolaridad_madre\",\"ocupacion_habitual_madre\",\"fecha_nacimiento_nac_vivo\",\\\n",
    "    \"hora_nacimiento_nac_vivo\", \"sexo_nac_vivo\", \"talla_nac_vivo\", \"peso_nac_vivo\", \"clues\", \"entidad_nacimiento\", \"municipio_nacimiento\",\\\n",
    "\"localidad_nacimiento\"]"
   ]
  },
  {
   "cell_type": "code",
   "execution_count": 44,
   "metadata": {},
   "outputs": [
    {
     "name": "stdout",
     "output_type": "stream",
     "text": [
      "('estado_conyugal', 'sexo', 'escolaridad', 'ocupacion2020', 'ocupacion2019')\n"
     ]
    }
   ],
   "source": [
    "# reading births_colnames file which contains tables to join on main data\n",
    "file_name = f\"/mnt/d/Mexico_Births/births_colnames.xlsx\"\n",
    "aux_data = pd.read_excel(file_name, sheet_name= None)\n",
    "aux_sheets = tuple(aux_data.keys())[4:] # taking sheets to join \n",
    "print(aux_sheets) "
   ]
  },
  {
   "cell_type": "code",
   "execution_count": 45,
   "metadata": {},
   "outputs": [
    {
     "data": {
      "text/html": [
       "<div>\n",
       "<style scoped>\n",
       "    .dataframe tbody tr th:only-of-type {\n",
       "        vertical-align: middle;\n",
       "    }\n",
       "\n",
       "    .dataframe tbody tr th {\n",
       "        vertical-align: top;\n",
       "    }\n",
       "\n",
       "    .dataframe thead th {\n",
       "        text-align: right;\n",
       "    }\n",
       "</style>\n",
       "<table border=\"1\" class=\"dataframe\">\n",
       "  <thead>\n",
       "    <tr style=\"text-align: right;\">\n",
       "      <th></th>\n",
       "      <th>Clave_2020</th>\n",
       "      <th>Clave_2019_2015</th>\n",
       "      <th>desc_hom_cony</th>\n",
       "    </tr>\n",
       "  </thead>\n",
       "  <tbody>\n",
       "    <tr>\n",
       "      <th>0</th>\n",
       "      <td>5</td>\n",
       "      <td>11</td>\n",
       "      <td>CASADA</td>\n",
       "    </tr>\n",
       "    <tr>\n",
       "      <th>1</th>\n",
       "      <td>1</td>\n",
       "      <td>12</td>\n",
       "      <td>SOLTERA</td>\n",
       "    </tr>\n",
       "    <tr>\n",
       "      <th>2</th>\n",
       "      <td>3</td>\n",
       "      <td>13</td>\n",
       "      <td>DIVORCIADA</td>\n",
       "    </tr>\n",
       "    <tr>\n",
       "      <th>3</th>\n",
       "      <td>2</td>\n",
       "      <td>14</td>\n",
       "      <td>VIUDA</td>\n",
       "    </tr>\n",
       "    <tr>\n",
       "      <th>4</th>\n",
       "      <td>4</td>\n",
       "      <td>15</td>\n",
       "      <td>UNIÓN LIBRE</td>\n",
       "    </tr>\n",
       "    <tr>\n",
       "      <th>5</th>\n",
       "      <td>6</td>\n",
       "      <td>16</td>\n",
       "      <td>SEPARADA</td>\n",
       "    </tr>\n",
       "    <tr>\n",
       "      <th>6</th>\n",
       "      <td>0</td>\n",
       "      <td>88</td>\n",
       "      <td>NO ESPECIFICADO</td>\n",
       "    </tr>\n",
       "    <tr>\n",
       "      <th>7</th>\n",
       "      <td>9</td>\n",
       "      <td>99</td>\n",
       "      <td>SE IGNORA</td>\n",
       "    </tr>\n",
       "  </tbody>\n",
       "</table>\n",
       "</div>"
      ],
      "text/plain": [
       "   Clave_2020  Clave_2019_2015    desc_hom_cony\n",
       "0           5               11           CASADA\n",
       "1           1               12          SOLTERA\n",
       "2           3               13       DIVORCIADA\n",
       "3           2               14            VIUDA\n",
       "4           4               15      UNIÓN LIBRE\n",
       "5           6               16         SEPARADA\n",
       "6           0               88  NO ESPECIFICADO\n",
       "7           9               99        SE IGNORA"
      ]
     },
     "execution_count": 45,
     "metadata": {},
     "output_type": "execute_result"
    }
   ],
   "source": [
    "aux_data[aux_sheets[0]] # estado counyugal table"
   ]
  },
  {
   "cell_type": "code",
   "execution_count": 51,
   "metadata": {},
   "outputs": [
    {
     "data": {
      "text/html": [
       "<div>\n",
       "<style scoped>\n",
       "    .dataframe tbody tr th:only-of-type {\n",
       "        vertical-align: middle;\n",
       "    }\n",
       "\n",
       "    .dataframe tbody tr th {\n",
       "        vertical-align: top;\n",
       "    }\n",
       "\n",
       "    .dataframe thead th {\n",
       "        text-align: right;\n",
       "    }\n",
       "</style>\n",
       "<table border=\"1\" class=\"dataframe\">\n",
       "  <thead>\n",
       "    <tr style=\"text-align: right;\">\n",
       "      <th></th>\n",
       "      <th>Clave_2020</th>\n",
       "      <th>Clave_2019_2015</th>\n",
       "      <th>desc_hom_sex</th>\n",
       "    </tr>\n",
       "  </thead>\n",
       "  <tbody>\n",
       "    <tr>\n",
       "      <th>0</th>\n",
       "      <td>0</td>\n",
       "      <td>0</td>\n",
       "      <td>NO ESPECIFICADO</td>\n",
       "    </tr>\n",
       "    <tr>\n",
       "      <th>1</th>\n",
       "      <td>1</td>\n",
       "      <td>1</td>\n",
       "      <td>HOMBRE</td>\n",
       "    </tr>\n",
       "    <tr>\n",
       "      <th>2</th>\n",
       "      <td>2</td>\n",
       "      <td>2</td>\n",
       "      <td>MUJER</td>\n",
       "    </tr>\n",
       "    <tr>\n",
       "      <th>3</th>\n",
       "      <td>9</td>\n",
       "      <td>9</td>\n",
       "      <td>SE IGNORA</td>\n",
       "    </tr>\n",
       "  </tbody>\n",
       "</table>\n",
       "</div>"
      ],
      "text/plain": [
       "   Clave_2020  Clave_2019_2015     desc_hom_sex\n",
       "0           0                0  NO ESPECIFICADO\n",
       "1           1                1           HOMBRE\n",
       "2           2                2            MUJER\n",
       "3           9                9        SE IGNORA"
      ]
     },
     "execution_count": 51,
     "metadata": {},
     "output_type": "execute_result"
    }
   ],
   "source": [
    "aux_data[aux_sheets[1]] # genero table"
   ]
  },
  {
   "cell_type": "code",
   "execution_count": 47,
   "metadata": {},
   "outputs": [
    {
     "data": {
      "text/html": [
       "<div>\n",
       "<style scoped>\n",
       "    .dataframe tbody tr th:only-of-type {\n",
       "        vertical-align: middle;\n",
       "    }\n",
       "\n",
       "    .dataframe tbody tr th {\n",
       "        vertical-align: top;\n",
       "    }\n",
       "\n",
       "    .dataframe thead th {\n",
       "        text-align: right;\n",
       "    }\n",
       "</style>\n",
       "<table border=\"1\" class=\"dataframe\">\n",
       "  <thead>\n",
       "    <tr style=\"text-align: right;\">\n",
       "      <th></th>\n",
       "      <th>Clave_2020</th>\n",
       "      <th>Clave_2019_2015</th>\n",
       "      <th>desc_hom_esc</th>\n",
       "    </tr>\n",
       "  </thead>\n",
       "  <tbody>\n",
       "    <tr>\n",
       "      <th>0</th>\n",
       "      <td>0</td>\n",
       "      <td>0</td>\n",
       "      <td>NO ESPECIFICADO</td>\n",
       "    </tr>\n",
       "    <tr>\n",
       "      <th>1</th>\n",
       "      <td>1</td>\n",
       "      <td>1</td>\n",
       "      <td>NINGUNA</td>\n",
       "    </tr>\n",
       "    <tr>\n",
       "      <th>2</th>\n",
       "      <td>31</td>\n",
       "      <td>3</td>\n",
       "      <td>PRIMARIA COMPLETA</td>\n",
       "    </tr>\n",
       "    <tr>\n",
       "      <th>3</th>\n",
       "      <td>32</td>\n",
       "      <td>2</td>\n",
       "      <td>PRIMARIA INCOMPLETA</td>\n",
       "    </tr>\n",
       "    <tr>\n",
       "      <th>4</th>\n",
       "      <td>51</td>\n",
       "      <td>5</td>\n",
       "      <td>SECUNDARIA COMPLETA</td>\n",
       "    </tr>\n",
       "    <tr>\n",
       "      <th>5</th>\n",
       "      <td>52</td>\n",
       "      <td>4</td>\n",
       "      <td>SECUNDARIA INCOMPLETA</td>\n",
       "    </tr>\n",
       "    <tr>\n",
       "      <th>6</th>\n",
       "      <td>71</td>\n",
       "      <td>7</td>\n",
       "      <td>BACHILLERATO O PREPARATORIA COMPLETA</td>\n",
       "    </tr>\n",
       "    <tr>\n",
       "      <th>7</th>\n",
       "      <td>72</td>\n",
       "      <td>6</td>\n",
       "      <td>BACHILLERATO O PREPARATORIA INCOMPLETA</td>\n",
       "    </tr>\n",
       "    <tr>\n",
       "      <th>8</th>\n",
       "      <td>81</td>\n",
       "      <td>8</td>\n",
       "      <td>LICENCIATURA O PROFESIONAL COMPLETO</td>\n",
       "    </tr>\n",
       "    <tr>\n",
       "      <th>9</th>\n",
       "      <td>82</td>\n",
       "      <td>11</td>\n",
       "      <td>LICENCIATURA O PROFESIONAL INCOMPLETO</td>\n",
       "    </tr>\n",
       "    <tr>\n",
       "      <th>10</th>\n",
       "      <td>88</td>\n",
       "      <td>88</td>\n",
       "      <td>NO ESPECIFICADO</td>\n",
       "    </tr>\n",
       "    <tr>\n",
       "      <th>11</th>\n",
       "      <td>99</td>\n",
       "      <td>99</td>\n",
       "      <td>SE IGNORA</td>\n",
       "    </tr>\n",
       "    <tr>\n",
       "      <th>12</th>\n",
       "      <td>101</td>\n",
       "      <td>10</td>\n",
       "      <td>POSGRADO COMPLETO</td>\n",
       "    </tr>\n",
       "    <tr>\n",
       "      <th>13</th>\n",
       "      <td>102</td>\n",
       "      <td>12</td>\n",
       "      <td>POSGRADO INCOMPLETO</td>\n",
       "    </tr>\n",
       "    <tr>\n",
       "      <th>14</th>\n",
       "      <td>111</td>\n",
       "      <td>111</td>\n",
       "      <td>SECUNDARIA COMPLETA</td>\n",
       "    </tr>\n",
       "    <tr>\n",
       "      <th>15</th>\n",
       "      <td>112</td>\n",
       "      <td>112</td>\n",
       "      <td>SECUNDARIA INCOMPLETA</td>\n",
       "    </tr>\n",
       "    <tr>\n",
       "      <th>16</th>\n",
       "      <td>131</td>\n",
       "      <td>131</td>\n",
       "      <td>BACHILLERATO O PREPARATORIA COMPLETA</td>\n",
       "    </tr>\n",
       "    <tr>\n",
       "      <th>17</th>\n",
       "      <td>132</td>\n",
       "      <td>132</td>\n",
       "      <td>BACHILLERATO O PREPARATORIA INCOMPLETA</td>\n",
       "    </tr>\n",
       "  </tbody>\n",
       "</table>\n",
       "</div>"
      ],
      "text/plain": [
       "    Clave_2020  Clave_2019_2015                            desc_hom_esc\n",
       "0            0                0                         NO ESPECIFICADO\n",
       "1            1                1                                 NINGUNA\n",
       "2           31                3                       PRIMARIA COMPLETA\n",
       "3           32                2                     PRIMARIA INCOMPLETA\n",
       "4           51                5                     SECUNDARIA COMPLETA\n",
       "5           52                4                   SECUNDARIA INCOMPLETA\n",
       "6           71                7    BACHILLERATO O PREPARATORIA COMPLETA\n",
       "7           72                6  BACHILLERATO O PREPARATORIA INCOMPLETA\n",
       "8           81                8     LICENCIATURA O PROFESIONAL COMPLETO\n",
       "9           82               11   LICENCIATURA O PROFESIONAL INCOMPLETO\n",
       "10          88               88                         NO ESPECIFICADO\n",
       "11          99               99                               SE IGNORA\n",
       "12         101               10                       POSGRADO COMPLETO\n",
       "13         102               12                     POSGRADO INCOMPLETO\n",
       "14         111              111                     SECUNDARIA COMPLETA\n",
       "15         112              112                   SECUNDARIA INCOMPLETA\n",
       "16         131              131    BACHILLERATO O PREPARATORIA COMPLETA\n",
       "17         132              132  BACHILLERATO O PREPARATORIA INCOMPLETA"
      ]
     },
     "execution_count": 47,
     "metadata": {},
     "output_type": "execute_result"
    }
   ],
   "source": [
    "aux_data[aux_sheets[2]] # escolaridad table"
   ]
  },
  {
   "cell_type": "code",
   "execution_count": 33,
   "metadata": {},
   "outputs": [
    {
     "name": "stderr",
     "output_type": "stream",
     "text": [
      "/tmp/ipykernel_11836/3653674599.py:1: DtypeWarning: Columns (49,59) have mixed types.Specify dtype option on import or set low_memory=False.\n",
      "  data = read_zip(2020)\n"
     ]
    }
   ],
   "source": [
    "data = read_zip(2020)"
   ]
  },
  {
   "cell_type": "code",
   "execution_count": 49,
   "metadata": {},
   "outputs": [],
   "source": [
    "data = data[columns_20]"
   ]
  },
  {
   "cell_type": "code",
   "execution_count": 50,
   "metadata": {},
   "outputs": [
    {
     "name": "stdout",
     "output_type": "stream",
     "text": [
      "<class 'pandas.core.frame.DataFrame'>\n",
      "RangeIndex: 1747847 entries, 0 to 1747846\n",
      "Data columns (total 13 columns):\n",
      " #   Column                  Dtype \n",
      "---  ------                  ----- \n",
      " 0   EDAD                    int64 \n",
      " 1   ESTADOCONYUGAL          int64 \n",
      " 2   ESCOLARIDAD             int64 \n",
      " 3   CLAVEOCUPACIONHABITUAL  int64 \n",
      " 4   FECHANACIMIENTO         object\n",
      " 5   HORANACIMIENTO          object\n",
      " 6   SEXO                    int64 \n",
      " 7   TALLA                   int64 \n",
      " 8   PESO                    int64 \n",
      " 9   CLUES                   object\n",
      " 10  ENTIDADFEDERATIVAPARTO  int64 \n",
      " 11  MUNICIPIOPARTO          int64 \n",
      " 12  LOCALIDADPARTO          int64 \n",
      "dtypes: int64(10), object(3)\n",
      "memory usage: 173.4+ MB\n"
     ]
    }
   ],
   "source": [
    "data.info()"
   ]
  },
  {
   "cell_type": "code",
   "execution_count": 52,
   "metadata": {},
   "outputs": [
    {
     "name": "stderr",
     "output_type": "stream",
     "text": [
      "/tmp/ipykernel_11836/3021495784.py:4: FutureWarning: Passing 'suffixes' which cause duplicate columns {'Clave_2020_x'} in the result is deprecated and will raise a MergeError in a future version.\n",
      "  data = pd.merge(data, aux_data[aux_sheets[3]], how=\"left\", left_on=\"CLAVEOCUPACIONHABITUAL\", right_on=\"Clave_2020\")\n"
     ]
    }
   ],
   "source": [
    "data = pd.merge(data, aux_data[aux_sheets[0]], how=\"left\", left_on=\"ESTADOCONYUGAL\", right_on=\"Clave_2020\")\n",
    "data = pd.merge(data, aux_data[aux_sheets[1]], how=\"left\", left_on=\"SEXO\", right_on=\"Clave_2020\")\n",
    "data = pd.merge(data, aux_data[aux_sheets[2]], how=\"left\", left_on=\"ESCOLARIDAD\", right_on=\"Clave_2020\")\n",
    "data = pd.merge(data, aux_data[aux_sheets[3]], how=\"left\", left_on=\"CLAVEOCUPACIONHABITUAL\", right_on=\"Clave_2020\")"
   ]
  },
  {
   "cell_type": "code",
   "execution_count": 54,
   "metadata": {},
   "outputs": [
    {
     "data": {
      "text/plain": [
       "Index(['EDAD', 'ESTADOCONYUGAL', 'ESCOLARIDAD', 'CLAVEOCUPACIONHABITUAL',\n",
       "       'FECHANACIMIENTO', 'HORANACIMIENTO', 'SEXO', 'TALLA', 'PESO', 'CLUES',\n",
       "       'ENTIDADFEDERATIVAPARTO', 'MUNICIPIOPARTO', 'LOCALIDADPARTO',\n",
       "       'Clave_2020_x', 'Clave_2019_2015_x', 'desc_hom_cony', 'Clave_2020_y',\n",
       "       'Clave_2019_2015_y', 'desc_hom_sex', 'Clave_2020_x', 'Clave_2019_2015',\n",
       "       'desc_hom_esc', 'Clave_2020_y', 'desc_hom_ocup'],\n",
       "      dtype='object')"
      ]
     },
     "execution_count": 54,
     "metadata": {},
     "output_type": "execute_result"
    }
   ],
   "source": [
    "data.columns"
   ]
  },
  {
   "cell_type": "code",
   "execution_count": 56,
   "metadata": {},
   "outputs": [
    {
     "data": {
      "text/html": [
       "<div>\n",
       "<style scoped>\n",
       "    .dataframe tbody tr th:only-of-type {\n",
       "        vertical-align: middle;\n",
       "    }\n",
       "\n",
       "    .dataframe tbody tr th {\n",
       "        vertical-align: top;\n",
       "    }\n",
       "\n",
       "    .dataframe thead th {\n",
       "        text-align: right;\n",
       "    }\n",
       "</style>\n",
       "<table border=\"1\" class=\"dataframe\">\n",
       "  <thead>\n",
       "    <tr style=\"text-align: right;\">\n",
       "      <th></th>\n",
       "      <th>EDAD</th>\n",
       "      <th>ESTADOCONYUGAL</th>\n",
       "      <th>ESCOLARIDAD</th>\n",
       "      <th>CLAVEOCUPACIONHABITUAL</th>\n",
       "      <th>FECHANACIMIENTO</th>\n",
       "      <th>HORANACIMIENTO</th>\n",
       "      <th>SEXO</th>\n",
       "      <th>TALLA</th>\n",
       "      <th>PESO</th>\n",
       "      <th>CLUES</th>\n",
       "      <th>...</th>\n",
       "      <th>Clave_2019_2015_x</th>\n",
       "      <th>desc_hom_cony</th>\n",
       "      <th>Clave_2020_y</th>\n",
       "      <th>Clave_2019_2015_y</th>\n",
       "      <th>desc_hom_sex</th>\n",
       "      <th>Clave_2020_x</th>\n",
       "      <th>Clave_2019_2015</th>\n",
       "      <th>desc_hom_esc</th>\n",
       "      <th>Clave_2020_y</th>\n",
       "      <th>desc_hom_ocup</th>\n",
       "    </tr>\n",
       "  </thead>\n",
       "  <tbody>\n",
       "    <tr>\n",
       "      <th>0</th>\n",
       "      <td>29</td>\n",
       "      <td>5</td>\n",
       "      <td>81</td>\n",
       "      <td>53</td>\n",
       "      <td>09/01/2020</td>\n",
       "      <td>01:38</td>\n",
       "      <td>2</td>\n",
       "      <td>50</td>\n",
       "      <td>3000</td>\n",
       "      <td>JCSMP000861</td>\n",
       "      <td>...</td>\n",
       "      <td>11.0</td>\n",
       "      <td>CASADA</td>\n",
       "      <td>2</td>\n",
       "      <td>2</td>\n",
       "      <td>MUJER</td>\n",
       "      <td>81</td>\n",
       "      <td>8</td>\n",
       "      <td>LICENCIATURA O PROFESIONAL COMPLETO</td>\n",
       "      <td>53</td>\n",
       "      <td>TRABAJADORES EN SERVICIOS DE PROTECCIÓN Y VIGI...</td>\n",
       "    </tr>\n",
       "    <tr>\n",
       "      <th>1</th>\n",
       "      <td>26</td>\n",
       "      <td>5</td>\n",
       "      <td>31</td>\n",
       "      <td>2</td>\n",
       "      <td>04/01/2020</td>\n",
       "      <td>05:30</td>\n",
       "      <td>1</td>\n",
       "      <td>52</td>\n",
       "      <td>9999</td>\n",
       "      <td>9998</td>\n",
       "      <td>...</td>\n",
       "      <td>11.0</td>\n",
       "      <td>CASADA</td>\n",
       "      <td>1</td>\n",
       "      <td>1</td>\n",
       "      <td>HOMBRE</td>\n",
       "      <td>31</td>\n",
       "      <td>3</td>\n",
       "      <td>PRIMARIA COMPLETA</td>\n",
       "      <td>2</td>\n",
       "      <td>NO REMUNERADO, AMA DE CASA</td>\n",
       "    </tr>\n",
       "    <tr>\n",
       "      <th>2</th>\n",
       "      <td>25</td>\n",
       "      <td>4</td>\n",
       "      <td>51</td>\n",
       "      <td>2</td>\n",
       "      <td>08/01/2020</td>\n",
       "      <td>10:51</td>\n",
       "      <td>1</td>\n",
       "      <td>51</td>\n",
       "      <td>3200</td>\n",
       "      <td>9998</td>\n",
       "      <td>...</td>\n",
       "      <td>15.0</td>\n",
       "      <td>UNIÓN LIBRE</td>\n",
       "      <td>1</td>\n",
       "      <td>1</td>\n",
       "      <td>HOMBRE</td>\n",
       "      <td>51</td>\n",
       "      <td>5</td>\n",
       "      <td>SECUNDARIA COMPLETA</td>\n",
       "      <td>2</td>\n",
       "      <td>NO REMUNERADO, AMA DE CASA</td>\n",
       "    </tr>\n",
       "  </tbody>\n",
       "</table>\n",
       "<p>3 rows × 24 columns</p>\n",
       "</div>"
      ],
      "text/plain": [
       "   EDAD  ESTADOCONYUGAL  ESCOLARIDAD  CLAVEOCUPACIONHABITUAL FECHANACIMIENTO  \\\n",
       "0    29               5           81                      53      09/01/2020   \n",
       "1    26               5           31                       2      04/01/2020   \n",
       "2    25               4           51                       2      08/01/2020   \n",
       "\n",
       "  HORANACIMIENTO  SEXO  TALLA  PESO        CLUES  ...  Clave_2019_2015_x  \\\n",
       "0          01:38     2     50  3000  JCSMP000861  ...               11.0   \n",
       "1          05:30     1     52  9999         9998  ...               11.0   \n",
       "2          10:51     1     51  3200         9998  ...               15.0   \n",
       "\n",
       "   desc_hom_cony Clave_2020_y  Clave_2019_2015_y  desc_hom_sex Clave_2020_x  \\\n",
       "0         CASADA            2                  2         MUJER           81   \n",
       "1         CASADA            1                  1        HOMBRE           31   \n",
       "2    UNIÓN LIBRE            1                  1        HOMBRE           51   \n",
       "\n",
       "   Clave_2019_2015                         desc_hom_esc Clave_2020_y  \\\n",
       "0                8  LICENCIATURA O PROFESIONAL COMPLETO           53   \n",
       "1                3                    PRIMARIA COMPLETA            2   \n",
       "2                5                  SECUNDARIA COMPLETA            2   \n",
       "\n",
       "                                       desc_hom_ocup  \n",
       "0  TRABAJADORES EN SERVICIOS DE PROTECCIÓN Y VIGI...  \n",
       "1                         NO REMUNERADO, AMA DE CASA  \n",
       "2                         NO REMUNERADO, AMA DE CASA  \n",
       "\n",
       "[3 rows x 24 columns]"
      ]
     },
     "execution_count": 56,
     "metadata": {},
     "output_type": "execute_result"
    }
   ],
   "source": [
    "data.head(3)"
   ]
  },
  {
   "cell_type": "code",
   "execution_count": 62,
   "metadata": {},
   "outputs": [],
   "source": [
    "only_columns = ['EDAD', 'desc_hom_cony','desc_hom_esc','desc_hom_ocup', 'FECHANACIMIENTO', 'HORANACIMIENTO', 'desc_hom_sex', 'TALLA',\\\n",
    "     'PESO', 'CLUES','ENTIDADFEDERATIVAPARTO', 'MUNICIPIOPARTO', 'LOCALIDADPARTO']"
   ]
  },
  {
   "cell_type": "code",
   "execution_count": 63,
   "metadata": {},
   "outputs": [],
   "source": [
    "data = data.loc[:,only_columns]"
   ]
  },
  {
   "cell_type": "code",
   "execution_count": 64,
   "metadata": {},
   "outputs": [
    {
     "name": "stdout",
     "output_type": "stream",
     "text": [
      "<class 'pandas.core.frame.DataFrame'>\n",
      "Int64Index: 1747847 entries, 0 to 1747846\n",
      "Data columns (total 13 columns):\n",
      " #   Column                  Dtype \n",
      "---  ------                  ----- \n",
      " 0   EDAD                    int64 \n",
      " 1   desc_hom_cony           object\n",
      " 2   desc_hom_esc            object\n",
      " 3   desc_hom_ocup           object\n",
      " 4   FECHANACIMIENTO         object\n",
      " 5   HORANACIMIENTO          object\n",
      " 6   desc_hom_sex            object\n",
      " 7   TALLA                   int64 \n",
      " 8   PESO                    int64 \n",
      " 9   CLUES                   object\n",
      " 10  ENTIDADFEDERATIVAPARTO  int64 \n",
      " 11  MUNICIPIOPARTO          int64 \n",
      " 12  LOCALIDADPARTO          int64 \n",
      "dtypes: int64(6), object(7)\n",
      "memory usage: 186.7+ MB\n"
     ]
    }
   ],
   "source": [
    "data.info()"
   ]
  },
  {
   "cell_type": "code",
   "execution_count": null,
   "metadata": {},
   "outputs": [],
   "source": [
    "columns_16 = [\"edad_madre\",\"estado_conyugal\",\"escolaridad_madre\",\"ocupacion_habitual_madre\",\"fecha_nacimiento_nac_vivo\",\\\n",
    "    \"hora_nacimiento_nac_vivo\", \"sexo_nac_vivo\", \"talla_nac_vivo\", \"peso_nac_vivo\", \"clues\", \"entidad_nacimiento\", \"municipio_nacimiento\",\\\n",
    "\"localidad_nacimiento\"]"
   ]
  },
  {
   "cell_type": "code",
   "execution_count": null,
   "metadata": {},
   "outputs": [],
   "source": []
  }
 ],
 "metadata": {
  "interpreter": {
   "hash": "91fded6cad38740f1e539e12633a0501faa5676c056fe6efe03de36f8799fcb8"
  },
  "kernelspec": {
   "display_name": "Python 3.10.0 64-bit ('test': conda)",
   "language": "python",
   "name": "python3"
  },
  "language_info": {
   "codemirror_mode": {
    "name": "ipython",
    "version": 3
   },
   "file_extension": ".py",
   "mimetype": "text/x-python",
   "name": "python",
   "nbconvert_exporter": "python",
   "pygments_lexer": "ipython3",
   "version": "3.10.0"
  },
  "orig_nbformat": 4
 },
 "nbformat": 4,
 "nbformat_minor": 2
}
