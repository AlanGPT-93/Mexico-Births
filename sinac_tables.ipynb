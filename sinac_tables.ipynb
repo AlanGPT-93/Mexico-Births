{
 "cells": [
  {
   "cell_type": "code",
   "execution_count": 4,
   "metadata": {},
   "outputs": [],
   "source": [
    "import numpy as np\n",
    "import pandas as pd\n",
    "from zipfile import ZipFile"
   ]
  },
  {
   "cell_type": "code",
   "execution_count": 104,
   "metadata": {},
   "outputs": [
    {
     "name": "stderr",
     "output_type": "stream",
     "text": [
      "/home/argarcia/anaconda3/envs/test/lib/python3.10/site-packages/IPython/core/interactiveshell.py:3444: DtypeWarning: Columns (49,59) have mixed types.Specify dtype option on import or set low_memory=False.\n",
      "  exec(code_obj, self.user_global_ns, self.user_ns)\n"
     ]
    }
   ],
   "source": [
    "# specifying the zip file name\n",
    "file_name = \"/mnt/d/Mexico_Births/sinac_2020.zip\"\n",
    "  \n",
    "# opening the zip file in READ mode\n",
    "with ZipFile(file_name, 'r') as zip:\n",
    "    # printing all the contents of the zip file\n",
    "    name = zip.filelist\n",
    "    data = pd.read_csv(zip.open(name[0].filename) )"
   ]
  },
  {
   "cell_type": "code",
   "execution_count": 91,
   "metadata": {},
   "outputs": [],
   "source": [
    "data = data[[\"EDAD\",\"ESTADOCONYUGAL\",\"ESCOLARIDAD\",\"CLAVEOCUPACIONHABITUAL\",]]"
   ]
  },
  {
   "cell_type": "code",
   "execution_count": 80,
   "metadata": {},
   "outputs": [],
   "source": [
    "@wrapper\n",
    "def test(text):\n",
    "    print(\"this is a test \"+text)"
   ]
  },
  {
   "cell_type": "code",
   "execution_count": 78,
   "metadata": {},
   "outputs": [
    {
     "name": "stdout",
     "output_type": "stream",
     "text": [
      "this is a test /mnt/d/Mexico_Births/sinac_2020.zip\n"
     ]
    }
   ],
   "source": [
    "test(\"/mnt/d/Mexico_Births/sinac_2020.zip\")"
   ]
  },
  {
   "cell_type": "code",
   "execution_count": null,
   "metadata": {},
   "outputs": [],
   "source": []
  }
 ],
 "metadata": {
  "interpreter": {
   "hash": "91fded6cad38740f1e539e12633a0501faa5676c056fe6efe03de36f8799fcb8"
  },
  "kernelspec": {
   "display_name": "Python 3.10.0 64-bit ('test': conda)",
   "language": "python",
   "name": "python3"
  },
  "language_info": {
   "codemirror_mode": {
    "name": "ipython",
    "version": 3
   },
   "file_extension": ".py",
   "mimetype": "text/x-python",
   "name": "python",
   "nbconvert_exporter": "python",
   "pygments_lexer": "ipython3",
   "version": "3.10.0"
  },
  "orig_nbformat": 4
 },
 "nbformat": 4,
 "nbformat_minor": 2
}
