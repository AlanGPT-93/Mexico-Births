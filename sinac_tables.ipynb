{
 "cells": [
  {
   "cell_type": "code",
   "execution_count": 1,
   "metadata": {},
   "outputs": [],
   "source": [
    "#http://www.dgis.salud.gob.mx/contenidos/basesdedatos/da_nacimientos_gobmx.html\n",
    "# importing libraries\n",
    "from zipfile import ZipFile\n",
    "import numpy as np\n",
    "import openpyxl\n",
    "import pandas as pd"
   ]
  },
  {
   "cell_type": "markdown",
   "metadata": {},
   "source": [
    "## Setting read_zip function and colums names"
   ]
  },
  {
   "cell_type": "code",
   "execution_count": 13,
   "metadata": {},
   "outputs": [],
   "source": [
    "def read_zip(year):\n",
    "    # specifying the zip file directory\n",
    "    file_name = f\"/mnt/d/Mexico_Births/sinac_{year}.zip\"\n",
    "    \n",
    "    # opening the zip file in READ mode\n",
    "    with ZipFile(file_name, 'r') as zip:\n",
    "        # listing all the contents of the zip file\n",
    "        file_list = zip.filelist\n",
    "        # getting a DataFrame from the file in the index 0\n",
    "        data = pd.read_csv(zip.open(file_list[0].filename) )\n",
    "    return data"
   ]
  },
  {
   "cell_type": "code",
   "execution_count": 2,
   "metadata": {},
   "outputs": [],
   "source": [
    "# columns names for different year \n",
    "columns_names = {\n",
    "# columns names for 2020\n",
    "\"columns_20\" : [\"EDAD\",\"ESTADOCONYUGAL\",\"ESCOLARIDAD\",\"CLAVEOCUPACIONHABITUAL\",\"FECHANACIMIENTO\",\\\n",
    "\"HORANACIMIENTO\", \"SEXO\", \"TALLA\", \"PESO\", \"CLUES\", \"ENTIDADFEDERATIVAPARTO\", \"MUNICIPIOPARTO\",\\\n",
    "\"LOCALIDADPARTO\"], \n",
    "# columns names from 2017 to 2019\n",
    "\"columns_19\" : [\"EDADM\",\"EDOCIVIL\",\"NIV_ESCOL\",\"CVEOCUPHAB\",\"FECH_NACH\",\\\n",
    "\"HORA_NACH\", \"SEXOH\", \"TALLAH\", \"PESOH\", \"CLUES\", \"ENT_NAC\", \"MPO_NAC\",\\\n",
    "\"LOC_NAC\"],\n",
    "# columns names for 2016 & 2015\n",
    "\"columns_16\" : [\"edad_madre\",\"estado_conyugal\",\"escolaridad_madre\",\"ocupacion_habitual_madre\",\"fecha_nacimiento_nac_vivo\",\\\n",
    "\"hora_nacimiento_nac_vivo\", \"sexo_nac_vivo\", \"talla_nac_vivo\", \"peso_nac_vivo\", \"clues\", \"entidad_nacimiento\", \"municipio_nacimiento\",\\\n",
    "\"localidad_nacimiento\"],\n",
    "# new columns names\n",
    "\"new_columns\": [\"edad_madre\", \"estado_conyugal_madre\",\"escolaridad_madre\",\"ocupacion_madre\", \"fecha_nacimiento_nac\",\\\n",
    "\"hora_nacimiento_nac\", \"sexo_nac\", \"talla_nac\", \"peso_nac\", \"clues\", \"entidad_nacimiento\", \"municipio_nacimiento\",\\\n",
    "\"localidad_nacimiento\"]\n",
    "}"
   ]
  },
  {
   "cell_type": "markdown",
   "metadata": {},
   "source": [
    "## Reading auxiliar tables"
   ]
  },
  {
   "cell_type": "code",
   "execution_count": 3,
   "metadata": {},
   "outputs": [
    {
     "name": "stdout",
     "output_type": "stream",
     "text": [
      "('estado_conyugal', 'sexo', 'escolaridad', 'ocupacion2020', 'ocupacion2019')\n"
     ]
    }
   ],
   "source": [
    "# reading births_colnames file which contains tables to join on main data\n",
    "file_name = f\"/mnt/d/Mexico_Births/births_colnames.xlsx\"\n",
    "aux_data = pd.read_excel(file_name, sheet_name= None) # using sheet_name=None to get all sheets from excel in a dict\n",
    "aux_sheets = tuple(aux_data.keys())[4:] # taking sheets name to join with births data \n",
    "print(aux_sheets)"
   ]
  },
  {
   "cell_type": "code",
   "execution_count": 4,
   "metadata": {},
   "outputs": [
    {
     "data": {
      "text/html": [
       "<div>\n",
       "<style scoped>\n",
       "    .dataframe tbody tr th:only-of-type {\n",
       "        vertical-align: middle;\n",
       "    }\n",
       "\n",
       "    .dataframe tbody tr th {\n",
       "        vertical-align: top;\n",
       "    }\n",
       "\n",
       "    .dataframe thead th {\n",
       "        text-align: right;\n",
       "    }\n",
       "</style>\n",
       "<table border=\"1\" class=\"dataframe\">\n",
       "  <thead>\n",
       "    <tr style=\"text-align: right;\">\n",
       "      <th></th>\n",
       "      <th>Clave_2020</th>\n",
       "      <th>Clave_2019_2016</th>\n",
       "      <th>desc_hom_cony</th>\n",
       "    </tr>\n",
       "  </thead>\n",
       "  <tbody>\n",
       "    <tr>\n",
       "      <th>0</th>\n",
       "      <td>5</td>\n",
       "      <td>11</td>\n",
       "      <td>CASADA</td>\n",
       "    </tr>\n",
       "    <tr>\n",
       "      <th>1</th>\n",
       "      <td>1</td>\n",
       "      <td>12</td>\n",
       "      <td>SOLTERA</td>\n",
       "    </tr>\n",
       "    <tr>\n",
       "      <th>2</th>\n",
       "      <td>3</td>\n",
       "      <td>13</td>\n",
       "      <td>DIVORCIADA</td>\n",
       "    </tr>\n",
       "    <tr>\n",
       "      <th>3</th>\n",
       "      <td>2</td>\n",
       "      <td>14</td>\n",
       "      <td>VIUDA</td>\n",
       "    </tr>\n",
       "    <tr>\n",
       "      <th>4</th>\n",
       "      <td>4</td>\n",
       "      <td>15</td>\n",
       "      <td>UNIÓN LIBRE</td>\n",
       "    </tr>\n",
       "    <tr>\n",
       "      <th>5</th>\n",
       "      <td>6</td>\n",
       "      <td>16</td>\n",
       "      <td>SEPARADA</td>\n",
       "    </tr>\n",
       "    <tr>\n",
       "      <th>6</th>\n",
       "      <td>0</td>\n",
       "      <td>88</td>\n",
       "      <td>NO ESPECIFICADO</td>\n",
       "    </tr>\n",
       "    <tr>\n",
       "      <th>7</th>\n",
       "      <td>9</td>\n",
       "      <td>99</td>\n",
       "      <td>SE IGNORA</td>\n",
       "    </tr>\n",
       "  </tbody>\n",
       "</table>\n",
       "</div>"
      ],
      "text/plain": [
       "   Clave_2020  Clave_2019_2016    desc_hom_cony\n",
       "0           5               11           CASADA\n",
       "1           1               12          SOLTERA\n",
       "2           3               13       DIVORCIADA\n",
       "3           2               14            VIUDA\n",
       "4           4               15      UNIÓN LIBRE\n",
       "5           6               16         SEPARADA\n",
       "6           0               88  NO ESPECIFICADO\n",
       "7           9               99        SE IGNORA"
      ]
     },
     "execution_count": 4,
     "metadata": {},
     "output_type": "execute_result"
    }
   ],
   "source": [
    "aux_data[aux_sheets[0]] # estado counyugal table"
   ]
  },
  {
   "cell_type": "code",
   "execution_count": 5,
   "metadata": {},
   "outputs": [
    {
     "data": {
      "text/html": [
       "<div>\n",
       "<style scoped>\n",
       "    .dataframe tbody tr th:only-of-type {\n",
       "        vertical-align: middle;\n",
       "    }\n",
       "\n",
       "    .dataframe tbody tr th {\n",
       "        vertical-align: top;\n",
       "    }\n",
       "\n",
       "    .dataframe thead th {\n",
       "        text-align: right;\n",
       "    }\n",
       "</style>\n",
       "<table border=\"1\" class=\"dataframe\">\n",
       "  <thead>\n",
       "    <tr style=\"text-align: right;\">\n",
       "      <th></th>\n",
       "      <th>Clave_2020</th>\n",
       "      <th>Clave_2019_2016</th>\n",
       "      <th>desc_hom_sex</th>\n",
       "    </tr>\n",
       "  </thead>\n",
       "  <tbody>\n",
       "    <tr>\n",
       "      <th>0</th>\n",
       "      <td>0</td>\n",
       "      <td>0</td>\n",
       "      <td>NO ESPECIFICADO</td>\n",
       "    </tr>\n",
       "    <tr>\n",
       "      <th>1</th>\n",
       "      <td>1</td>\n",
       "      <td>1</td>\n",
       "      <td>HOMBRE</td>\n",
       "    </tr>\n",
       "    <tr>\n",
       "      <th>2</th>\n",
       "      <td>2</td>\n",
       "      <td>2</td>\n",
       "      <td>MUJER</td>\n",
       "    </tr>\n",
       "    <tr>\n",
       "      <th>3</th>\n",
       "      <td>9</td>\n",
       "      <td>9</td>\n",
       "      <td>SE IGNORA</td>\n",
       "    </tr>\n",
       "  </tbody>\n",
       "</table>\n",
       "</div>"
      ],
      "text/plain": [
       "   Clave_2020  Clave_2019_2016     desc_hom_sex\n",
       "0           0                0  NO ESPECIFICADO\n",
       "1           1                1           HOMBRE\n",
       "2           2                2            MUJER\n",
       "3           9                9        SE IGNORA"
      ]
     },
     "execution_count": 5,
     "metadata": {},
     "output_type": "execute_result"
    }
   ],
   "source": [
    "aux_data[aux_sheets[1]] # genero table"
   ]
  },
  {
   "cell_type": "code",
   "execution_count": 6,
   "metadata": {},
   "outputs": [
    {
     "data": {
      "text/html": [
       "<div>\n",
       "<style scoped>\n",
       "    .dataframe tbody tr th:only-of-type {\n",
       "        vertical-align: middle;\n",
       "    }\n",
       "\n",
       "    .dataframe tbody tr th {\n",
       "        vertical-align: top;\n",
       "    }\n",
       "\n",
       "    .dataframe thead th {\n",
       "        text-align: right;\n",
       "    }\n",
       "</style>\n",
       "<table border=\"1\" class=\"dataframe\">\n",
       "  <thead>\n",
       "    <tr style=\"text-align: right;\">\n",
       "      <th></th>\n",
       "      <th>Clave_2020</th>\n",
       "      <th>Clave_2019_2016</th>\n",
       "      <th>desc_hom_esc</th>\n",
       "    </tr>\n",
       "  </thead>\n",
       "  <tbody>\n",
       "    <tr>\n",
       "      <th>0</th>\n",
       "      <td>0</td>\n",
       "      <td>0</td>\n",
       "      <td>NO ESPECIFICADO</td>\n",
       "    </tr>\n",
       "    <tr>\n",
       "      <th>1</th>\n",
       "      <td>1</td>\n",
       "      <td>1</td>\n",
       "      <td>NINGUNA</td>\n",
       "    </tr>\n",
       "    <tr>\n",
       "      <th>2</th>\n",
       "      <td>31</td>\n",
       "      <td>3</td>\n",
       "      <td>PRIMARIA COMPLETA</td>\n",
       "    </tr>\n",
       "    <tr>\n",
       "      <th>3</th>\n",
       "      <td>32</td>\n",
       "      <td>2</td>\n",
       "      <td>PRIMARIA INCOMPLETA</td>\n",
       "    </tr>\n",
       "    <tr>\n",
       "      <th>4</th>\n",
       "      <td>51</td>\n",
       "      <td>5</td>\n",
       "      <td>SECUNDARIA COMPLETA</td>\n",
       "    </tr>\n",
       "  </tbody>\n",
       "</table>\n",
       "</div>"
      ],
      "text/plain": [
       "   Clave_2020  Clave_2019_2016         desc_hom_esc\n",
       "0           0                0      NO ESPECIFICADO\n",
       "1           1                1              NINGUNA\n",
       "2          31                3    PRIMARIA COMPLETA\n",
       "3          32                2  PRIMARIA INCOMPLETA\n",
       "4          51                5  SECUNDARIA COMPLETA"
      ]
     },
     "execution_count": 6,
     "metadata": {},
     "output_type": "execute_result"
    }
   ],
   "source": [
    "aux_data[aux_sheets[2]].head() # escolaridad table"
   ]
  },
  {
   "cell_type": "markdown",
   "metadata": {},
   "source": [
    "## Processing data from 2015 to 2020"
   ]
  },
  {
   "cell_type": "code",
   "execution_count": 7,
   "metadata": {},
   "outputs": [],
   "source": [
    "# function that helps to join our data with auxiliar tables\n",
    "def joining_tables(data, selected_columns, key_, job_id):\n",
    "    data = pd.merge(data, aux_data[aux_sheets[0]], how=\"left\", left_on=selected_columns[1], right_on=key_)\n",
    "    data = pd.merge(data, aux_data[aux_sheets[1]], how=\"left\", left_on=selected_columns[6], right_on=key_)\n",
    "    data = pd.merge(data, aux_data[aux_sheets[2]], how=\"left\", left_on=selected_columns[2], right_on=key_)\n",
    "    data = pd.merge(data, aux_data[aux_sheets[job_id]], how=\"left\", left_on=selected_columns[3], right_on=key_)\n",
    "    return data\n",
    "\n",
    "# changing values on some  columns for 2015\n",
    "def changing_vales(data):\n",
    "    vals = [('S.I.','SE IGNORA'),('N.E.','NO ESPECIFICADO')]\n",
    "    cl = [\"estado_conyugal\", \"escolaridad_madre\", \"ocupacion_habitual_madre\"]\n",
    "    for c in cl:\n",
    "        for v in vals:\n",
    "            data[data[c] == v[0]] = v[1]\n",
    "    return data\n"
   ]
  },
  {
   "cell_type": "code",
   "execution_count": 34,
   "metadata": {},
   "outputs": [],
   "source": [
    "def get_unified_data(year):\n",
    "    data = read_zip(year) # reading zip file to get a DF\n",
    "\n",
    "    # deciding which config take\n",
    "    if year == 2020:\n",
    "        key_ = f\"Clave_{str(year)}\" # key to join with DF\n",
    "        selected_columns = columns_names[f\"columns_{str(year)[-2:]}\"] # columns names of the year\n",
    "        job_id = 3 # ID table of the current mother's job\n",
    "    elif year in [2019, 2018, 2017]:\n",
    "        selected_columns = columns_names[f\"columns_19\"]\n",
    "        key_ = f\"Clave_2019_2016\"\n",
    "        job_id = 4\n",
    "    else:\n",
    "        selected_columns = columns_names[f\"columns_16\"]\n",
    "        key_ = f\"Clave_2019_2016\"\n",
    "        job_id = 4\n",
    "\n",
    "    # selecting columns \n",
    "    data = data[selected_columns] \n",
    "    \n",
    "    if year not in [2015,2016]:\n",
    "        # joining with auxiliar tables\n",
    "        data = joining_tables(data, selected_columns, key_, job_id)\n",
    "        # sorting\n",
    "        only_columns = [0, -9, -3, -1, 4, 5, 6, 7, 8, 9, 10, 11, 12]\n",
    "        data = data.iloc[:,only_columns]\n",
    "    else:\n",
    "        # changing values\n",
    "        data = changing_vales(data)\n",
    "\n",
    "    # renaming columns\n",
    "    data.columns = columns_names[\"new_columns\"]\n",
    "\n",
    "    return data"
   ]
  },
  {
   "cell_type": "markdown",
   "metadata": {},
   "source": [
    "## Running each year "
   ]
  },
  {
   "cell_type": "code",
   "execution_count": 37,
   "metadata": {},
   "outputs": [
    {
     "name": "stderr",
     "output_type": "stream",
     "text": [
      "/tmp/ipykernel_954/1095223579.py:2: DtypeWarning: Columns (5,6,7,54,60) have mixed types.Specify dtype option on import or set low_memory=False.\n",
      "  data = read_zip(year) # reading zip file to get a DF\n",
      "/tmp/ipykernel_954/1095223579.py:2: DtypeWarning: Columns (7,60) have mixed types.Specify dtype option on import or set low_memory=False.\n",
      "  data = read_zip(year) # reading zip file to get a DF\n",
      "/tmp/ipykernel_954/1095223579.py:2: DtypeWarning: Columns (11,47,49,52,64,66,74) have mixed types.Specify dtype option on import or set low_memory=False.\n",
      "  data = read_zip(year) # reading zip file to get a DF\n",
      "/tmp/ipykernel_954/4168944688.py:6: FutureWarning: Passing 'suffixes' which cause duplicate columns {'Clave_2019_2016_x'} in the result is deprecated and will raise a MergeError in a future version.\n",
      "  data = pd.merge(data, aux_data[aux_sheets[job_id]], how=\"left\", left_on=selected_columns[3], right_on=key_)\n",
      "/tmp/ipykernel_954/1095223579.py:2: DtypeWarning: Columns (7,51,56,63,65) have mixed types.Specify dtype option on import or set low_memory=False.\n",
      "  data = read_zip(year) # reading zip file to get a DF\n",
      "/tmp/ipykernel_954/1095223579.py:2: DtypeWarning: Columns (49,59) have mixed types.Specify dtype option on import or set low_memory=False.\n",
      "  data = read_zip(year) # reading zip file to get a DF\n",
      "/tmp/ipykernel_954/4168944688.py:6: FutureWarning: Passing 'suffixes' which cause duplicate columns {'Clave_2020_x'} in the result is deprecated and will raise a MergeError in a future version.\n",
      "  data = pd.merge(data, aux_data[aux_sheets[job_id]], how=\"left\", left_on=selected_columns[3], right_on=key_)\n"
     ]
    }
   ],
   "source": [
    "base_route = \"/mnt/d/Mexico_Births/\"\n",
    "for y in range(2015,2021):\n",
    "    data = get_unified_data(y)\n",
    "    data.to_csv(f\"{base_route}births_{y}.csv\", index= False), f\"{y} is done\""
   ]
  },
  {
   "cell_type": "code",
   "execution_count": null,
   "metadata": {},
   "outputs": [],
   "source": []
  },
  {
   "cell_type": "code",
   "execution_count": null,
   "metadata": {},
   "outputs": [],
   "source": []
  }
 ],
 "metadata": {
  "interpreter": {
   "hash": "91fded6cad38740f1e539e12633a0501faa5676c056fe6efe03de36f8799fcb8"
  },
  "kernelspec": {
   "display_name": "Python 3.10.0 64-bit ('test': conda)",
   "language": "python",
   "name": "python3"
  },
  "language_info": {
   "codemirror_mode": {
    "name": "ipython",
    "version": 3
   },
   "file_extension": ".py",
   "mimetype": "text/x-python",
   "name": "python",
   "nbconvert_exporter": "python",
   "pygments_lexer": "ipython3",
   "version": "3.10.0"
  },
  "orig_nbformat": 4
 },
 "nbformat": 4,
 "nbformat_minor": 2
}
