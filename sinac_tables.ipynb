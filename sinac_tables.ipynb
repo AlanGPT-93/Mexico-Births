{
 "cells": [
  {
   "cell_type": "code",
   "execution_count": 1,
   "metadata": {},
   "outputs": [],
   "source": [
    "# importing libraries\n",
    "from zipfile import ZipFile\n",
    "import numpy as np\n",
    "import openpyxl\n",
    "import pandas as pd"
   ]
  },
  {
   "cell_type": "markdown",
   "metadata": {},
   "source": [
    "## Setting read_zip funcion and colums names"
   ]
  },
  {
   "cell_type": "code",
   "execution_count": 2,
   "metadata": {},
   "outputs": [],
   "source": [
    "def read_zip(year):\n",
    "    # specifying the zip file directory\n",
    "    file_name = f\"/mnt/d/Mexico_Births/sinac_{year}.zip\"\n",
    "    \n",
    "    # opening the zip file in READ mode\n",
    "    with ZipFile(file_name, 'r') as zip:\n",
    "        # listing all the contents of the zip file\n",
    "        file_list = zip.filelist\n",
    "        # getting a DataFrame from the file in the index 0\n",
    "        data = pd.read_csv(zip.open(file_list[0].filename) )\n",
    "    return data"
   ]
  },
  {
   "cell_type": "code",
   "execution_count": 3,
   "metadata": {},
   "outputs": [],
   "source": [
    "# columns names for different year \n",
    "columns_names = {\"columns_20\" : [\"EDAD\",\"ESTADOCONYUGAL\",\"ESCOLARIDAD\",\"CLAVEOCUPACIONHABITUAL\",\"FECHANACIMIENTO\",\\\n",
    "\"HORANACIMIENTO\", \"SEXO\", \"TALLA\", \"PESO\", \"CLUES\", \"ENTIDADFEDERATIVAPARTO\", \"MUNICIPIOPARTO\",\\\n",
    "\"LOCALIDADPARTO\"], \n",
    "\n",
    "\"columns_19\" : [\"EDADM\",\"EDOCIVIL\",\"NIV_ESCOL\",\"CVEOCUPHAB\",\"FECH_NACH\",\\\n",
    "\"HORA_NACH\", \"SEXOH\", \"TALLAH\", \"PESOH\", \"CLUES\", \"ENT_NAC\", \"MPO_NAC\",\\\n",
    "\"LOC_NAC\"],\n",
    "\n",
    "\"columns_16\" : [\"edad_madre\",\"estado_conyugal\",\"escolaridad_madre\",\"ocupacion_habitual_madre\",\"fecha_nacimiento_nac_vivo\",\\\n",
    "\"hora_nacimiento_nac_vivo\", \"sexo_nac_vivo\", \"talla_nac_vivo\", \"peso_nac_vivo\", \"clues\", \"entidad_nacimiento\", \"municipio_nacimiento\",\\\n",
    "\"localidad_nacimiento\"],\n",
    "\n",
    "\"new_columns\": [\"estado_conyugal_madre\",\"escolaridad_madre\",\"ocupacion_madre\", \"edad_madre\",\"fecha_nacimiento_vivo\",\\\n",
    "\"hora_nacimiento_vivo\", \"sexo_vivo\", \"talla_vivo\", \"peso_vivo\", \"clues\", \"entidad_nacimiento\", \"municipio_nacimiento\",\\\n",
    "\"localidad_nacimiento\"]\n",
    "}"
   ]
  },
  {
   "cell_type": "markdown",
   "metadata": {},
   "source": [
    "## Reading auxiliar tables"
   ]
  },
  {
   "cell_type": "code",
   "execution_count": 4,
   "metadata": {},
   "outputs": [
    {
     "name": "stdout",
     "output_type": "stream",
     "text": [
      "('estado_conyugal', 'sexo', 'escolaridad', 'ocupacion2020', 'ocupacion2019')\n"
     ]
    }
   ],
   "source": [
    "# reading births_colnames file which contains tables to join on main data\n",
    "file_name = f\"/mnt/d/Mexico_Births/births_colnames.xlsx\"\n",
    "aux_data = pd.read_excel(file_name, sheet_name= None) # using sheet_name=None to get all sheets from excel in a dict\n",
    "aux_sheets = tuple(aux_data.keys())[4:] # taking sheets name to join with births data \n",
    "print(aux_sheets) "
   ]
  },
  {
   "cell_type": "code",
   "execution_count": 5,
   "metadata": {},
   "outputs": [
    {
     "data": {
      "text/html": [
       "<div>\n",
       "<style scoped>\n",
       "    .dataframe tbody tr th:only-of-type {\n",
       "        vertical-align: middle;\n",
       "    }\n",
       "\n",
       "    .dataframe tbody tr th {\n",
       "        vertical-align: top;\n",
       "    }\n",
       "\n",
       "    .dataframe thead th {\n",
       "        text-align: right;\n",
       "    }\n",
       "</style>\n",
       "<table border=\"1\" class=\"dataframe\">\n",
       "  <thead>\n",
       "    <tr style=\"text-align: right;\">\n",
       "      <th></th>\n",
       "      <th>Clave_2020</th>\n",
       "      <th>Clave_2019_2016</th>\n",
       "      <th>desc_hom_cony</th>\n",
       "    </tr>\n",
       "  </thead>\n",
       "  <tbody>\n",
       "    <tr>\n",
       "      <th>0</th>\n",
       "      <td>5</td>\n",
       "      <td>11</td>\n",
       "      <td>CASADA</td>\n",
       "    </tr>\n",
       "    <tr>\n",
       "      <th>1</th>\n",
       "      <td>1</td>\n",
       "      <td>12</td>\n",
       "      <td>SOLTERA</td>\n",
       "    </tr>\n",
       "    <tr>\n",
       "      <th>2</th>\n",
       "      <td>3</td>\n",
       "      <td>13</td>\n",
       "      <td>DIVORCIADA</td>\n",
       "    </tr>\n",
       "    <tr>\n",
       "      <th>3</th>\n",
       "      <td>2</td>\n",
       "      <td>14</td>\n",
       "      <td>VIUDA</td>\n",
       "    </tr>\n",
       "    <tr>\n",
       "      <th>4</th>\n",
       "      <td>4</td>\n",
       "      <td>15</td>\n",
       "      <td>UNIÓN LIBRE</td>\n",
       "    </tr>\n",
       "    <tr>\n",
       "      <th>5</th>\n",
       "      <td>6</td>\n",
       "      <td>16</td>\n",
       "      <td>SEPARADA</td>\n",
       "    </tr>\n",
       "    <tr>\n",
       "      <th>6</th>\n",
       "      <td>0</td>\n",
       "      <td>88</td>\n",
       "      <td>NO ESPECIFICADO</td>\n",
       "    </tr>\n",
       "    <tr>\n",
       "      <th>7</th>\n",
       "      <td>9</td>\n",
       "      <td>99</td>\n",
       "      <td>SE IGNORA</td>\n",
       "    </tr>\n",
       "  </tbody>\n",
       "</table>\n",
       "</div>"
      ],
      "text/plain": [
       "   Clave_2020  Clave_2019_2016    desc_hom_cony\n",
       "0           5               11           CASADA\n",
       "1           1               12          SOLTERA\n",
       "2           3               13       DIVORCIADA\n",
       "3           2               14            VIUDA\n",
       "4           4               15      UNIÓN LIBRE\n",
       "5           6               16         SEPARADA\n",
       "6           0               88  NO ESPECIFICADO\n",
       "7           9               99        SE IGNORA"
      ]
     },
     "execution_count": 5,
     "metadata": {},
     "output_type": "execute_result"
    }
   ],
   "source": [
    "aux_data[aux_sheets[0]] # estado counyugal table"
   ]
  },
  {
   "cell_type": "code",
   "execution_count": 6,
   "metadata": {},
   "outputs": [
    {
     "data": {
      "text/html": [
       "<div>\n",
       "<style scoped>\n",
       "    .dataframe tbody tr th:only-of-type {\n",
       "        vertical-align: middle;\n",
       "    }\n",
       "\n",
       "    .dataframe tbody tr th {\n",
       "        vertical-align: top;\n",
       "    }\n",
       "\n",
       "    .dataframe thead th {\n",
       "        text-align: right;\n",
       "    }\n",
       "</style>\n",
       "<table border=\"1\" class=\"dataframe\">\n",
       "  <thead>\n",
       "    <tr style=\"text-align: right;\">\n",
       "      <th></th>\n",
       "      <th>Clave_2020</th>\n",
       "      <th>Clave_2019_2016</th>\n",
       "      <th>desc_hom_sex</th>\n",
       "    </tr>\n",
       "  </thead>\n",
       "  <tbody>\n",
       "    <tr>\n",
       "      <th>0</th>\n",
       "      <td>0</td>\n",
       "      <td>0</td>\n",
       "      <td>NO ESPECIFICADO</td>\n",
       "    </tr>\n",
       "    <tr>\n",
       "      <th>1</th>\n",
       "      <td>1</td>\n",
       "      <td>1</td>\n",
       "      <td>HOMBRE</td>\n",
       "    </tr>\n",
       "    <tr>\n",
       "      <th>2</th>\n",
       "      <td>2</td>\n",
       "      <td>2</td>\n",
       "      <td>MUJER</td>\n",
       "    </tr>\n",
       "    <tr>\n",
       "      <th>3</th>\n",
       "      <td>9</td>\n",
       "      <td>9</td>\n",
       "      <td>SE IGNORA</td>\n",
       "    </tr>\n",
       "  </tbody>\n",
       "</table>\n",
       "</div>"
      ],
      "text/plain": [
       "   Clave_2020  Clave_2019_2016     desc_hom_sex\n",
       "0           0                0  NO ESPECIFICADO\n",
       "1           1                1           HOMBRE\n",
       "2           2                2            MUJER\n",
       "3           9                9        SE IGNORA"
      ]
     },
     "execution_count": 6,
     "metadata": {},
     "output_type": "execute_result"
    }
   ],
   "source": [
    "aux_data[aux_sheets[1]] # genero table"
   ]
  },
  {
   "cell_type": "code",
   "execution_count": 7,
   "metadata": {},
   "outputs": [
    {
     "data": {
      "text/html": [
       "<div>\n",
       "<style scoped>\n",
       "    .dataframe tbody tr th:only-of-type {\n",
       "        vertical-align: middle;\n",
       "    }\n",
       "\n",
       "    .dataframe tbody tr th {\n",
       "        vertical-align: top;\n",
       "    }\n",
       "\n",
       "    .dataframe thead th {\n",
       "        text-align: right;\n",
       "    }\n",
       "</style>\n",
       "<table border=\"1\" class=\"dataframe\">\n",
       "  <thead>\n",
       "    <tr style=\"text-align: right;\">\n",
       "      <th></th>\n",
       "      <th>Clave_2020</th>\n",
       "      <th>Clave_2019_2016</th>\n",
       "      <th>desc_hom_esc</th>\n",
       "    </tr>\n",
       "  </thead>\n",
       "  <tbody>\n",
       "    <tr>\n",
       "      <th>0</th>\n",
       "      <td>0</td>\n",
       "      <td>0</td>\n",
       "      <td>NO ESPECIFICADO</td>\n",
       "    </tr>\n",
       "    <tr>\n",
       "      <th>1</th>\n",
       "      <td>1</td>\n",
       "      <td>1</td>\n",
       "      <td>NINGUNA</td>\n",
       "    </tr>\n",
       "    <tr>\n",
       "      <th>2</th>\n",
       "      <td>31</td>\n",
       "      <td>3</td>\n",
       "      <td>PRIMARIA COMPLETA</td>\n",
       "    </tr>\n",
       "    <tr>\n",
       "      <th>3</th>\n",
       "      <td>32</td>\n",
       "      <td>2</td>\n",
       "      <td>PRIMARIA INCOMPLETA</td>\n",
       "    </tr>\n",
       "    <tr>\n",
       "      <th>4</th>\n",
       "      <td>51</td>\n",
       "      <td>5</td>\n",
       "      <td>SECUNDARIA COMPLETA</td>\n",
       "    </tr>\n",
       "  </tbody>\n",
       "</table>\n",
       "</div>"
      ],
      "text/plain": [
       "   Clave_2020  Clave_2019_2016         desc_hom_esc\n",
       "0           0                0      NO ESPECIFICADO\n",
       "1           1                1              NINGUNA\n",
       "2          31                3    PRIMARIA COMPLETA\n",
       "3          32                2  PRIMARIA INCOMPLETA\n",
       "4          51                5  SECUNDARIA COMPLETA"
      ]
     },
     "execution_count": 7,
     "metadata": {},
     "output_type": "execute_result"
    }
   ],
   "source": [
    "aux_data[aux_sheets[2]].head() # escolaridad table"
   ]
  },
  {
   "cell_type": "markdown",
   "metadata": {},
   "source": [
    "## Processing data from 2016 to 2020"
   ]
  },
  {
   "cell_type": "code",
   "execution_count": 12,
   "metadata": {},
   "outputs": [],
   "source": [
    "def get_unified_data(year):\n",
    "    data = read_zip(year) # reading zip file to get a DF\n",
    "\n",
    "    # selecting columns\n",
    "    if year == 2020:\n",
    "        key_ = f\"Clave_{str(year)}\"\n",
    "        selected_columns = columns_names[f\"columns_{str(year)[-2:]}\"]\n",
    "        job_id = 3\n",
    "    elif year in [2019, 2018, 2017]:\n",
    "        selected_columns = columns_names[f\"columns_19\"]\n",
    "        key_ = f\"Clave_2019_2016\"\n",
    "        job_id = 4\n",
    "    else:\n",
    "        selected_columns = columns_names[f\"columns_16\"]\n",
    "        key_ = f\"Clave_2019_2016\"\n",
    "        job_id = 4\n",
    "     \n",
    "    data = data[selected_columns] \n",
    "    \n",
    "    # joining with auxiliar tables\n",
    "    data = pd.merge(data, aux_data[aux_sheets[0]], how=\"left\", left_on=selected_columns[1], right_on=key_)\n",
    "    data = pd.merge(data, aux_data[aux_sheets[1]], how=\"left\", left_on=selected_columns[6], right_on=key_)\n",
    "    data = pd.merge(data, aux_data[aux_sheets[2]], how=\"left\", left_on=selected_columns[2], right_on=key_)\n",
    "    data = pd.merge(data, aux_data[aux_sheets[job_id]], how=\"left\", left_on=selected_columns[3], right_on=key_)\n",
    "\n",
    "    # sorting and renaming columns\n",
    "    only_columns = [-9, -3, -1, 0, 4, 5, 6, 7, 8, 9, 10, 11, 12]\n",
    "    data = data.iloc[:,only_columns]\n",
    "    data.columns = columns_names[\"new_columns\"]\n",
    "\n",
    "    return data"
   ]
  },
  {
   "cell_type": "code",
   "execution_count": 13,
   "metadata": {},
   "outputs": [
    {
     "name": "stderr",
     "output_type": "stream",
     "text": [
      "/tmp/ipykernel_22401/3537065925.py:2: DtypeWarning: Columns (7,51,56,63,65) have mixed types.Specify dtype option on import or set low_memory=False.\n",
      "  data = read_zip(year) # reading zip file to get a DF\n",
      "/tmp/ipykernel_22401/3537065925.py:24: FutureWarning: Passing 'suffixes' which cause duplicate columns {'Clave_2019_2016_x'} in the result is deprecated and will raise a MergeError in a future version.\n",
      "  data = pd.merge(data, aux_data[aux_sheets[job_id]], how=\"left\", left_on=selected_columns[3], right_on=key_)\n"
     ]
    }
   ],
   "source": [
    "data = get_unified_data(2019)"
   ]
  },
  {
   "cell_type": "code",
   "execution_count": 14,
   "metadata": {},
   "outputs": [
    {
     "data": {
      "text/html": [
       "<div>\n",
       "<style scoped>\n",
       "    .dataframe tbody tr th:only-of-type {\n",
       "        vertical-align: middle;\n",
       "    }\n",
       "\n",
       "    .dataframe tbody tr th {\n",
       "        vertical-align: top;\n",
       "    }\n",
       "\n",
       "    .dataframe thead th {\n",
       "        text-align: right;\n",
       "    }\n",
       "</style>\n",
       "<table border=\"1\" class=\"dataframe\">\n",
       "  <thead>\n",
       "    <tr style=\"text-align: right;\">\n",
       "      <th></th>\n",
       "      <th>estado_conyugal_madre</th>\n",
       "      <th>escolaridad_madre</th>\n",
       "      <th>ocupacion_madre</th>\n",
       "      <th>edad_madre</th>\n",
       "      <th>fecha_nacimiento_vivo</th>\n",
       "      <th>hora_nacimiento_vivo</th>\n",
       "      <th>sexo_vivo</th>\n",
       "      <th>talla_vivo</th>\n",
       "      <th>peso_vivo</th>\n",
       "      <th>clues</th>\n",
       "      <th>entidad_nacimiento</th>\n",
       "      <th>municipio_nacimiento</th>\n",
       "      <th>localidad_nacimiento</th>\n",
       "    </tr>\n",
       "  </thead>\n",
       "  <tbody>\n",
       "    <tr>\n",
       "      <th>1197261</th>\n",
       "      <td>CASADA</td>\n",
       "      <td>SECUNDARIA COMPLETA</td>\n",
       "      <td>NO OCUPADO</td>\n",
       "      <td>36</td>\n",
       "      <td>22/12/2019</td>\n",
       "      <td>14:02:00</td>\n",
       "      <td>2</td>\n",
       "      <td>52</td>\n",
       "      <td>3700</td>\n",
       "      <td>NLIMS000636</td>\n",
       "      <td>19</td>\n",
       "      <td>6</td>\n",
       "      <td>1</td>\n",
       "    </tr>\n",
       "    <tr>\n",
       "      <th>33588</th>\n",
       "      <td>UNIÓN LIBRE</td>\n",
       "      <td>PRIMARIA COMPLETA</td>\n",
       "      <td>NO REMUNERADO - AMA DE CASA</td>\n",
       "      <td>34</td>\n",
       "      <td>05/01/2019</td>\n",
       "      <td>20:40:00</td>\n",
       "      <td>1</td>\n",
       "      <td>50</td>\n",
       "      <td>3690</td>\n",
       "      <td>BCSSA000015</td>\n",
       "      <td>2</td>\n",
       "      <td>1</td>\n",
       "      <td>1</td>\n",
       "    </tr>\n",
       "    <tr>\n",
       "      <th>173089</th>\n",
       "      <td>UNIÓN LIBRE</td>\n",
       "      <td>LICENCIATURA O PROFESIONAL INCOMPLETO</td>\n",
       "      <td>NO REMUNERADO - AMA DE CASA</td>\n",
       "      <td>23</td>\n",
       "      <td>17/01/2019</td>\n",
       "      <td>04:17:00</td>\n",
       "      <td>1</td>\n",
       "      <td>49</td>\n",
       "      <td>3570</td>\n",
       "      <td>CSSSA009244</td>\n",
       "      <td>7</td>\n",
       "      <td>89</td>\n",
       "      <td>1</td>\n",
       "    </tr>\n",
       "  </tbody>\n",
       "</table>\n",
       "</div>"
      ],
      "text/plain": [
       "        estado_conyugal_madre                      escolaridad_madre  \\\n",
       "1197261                CASADA                    SECUNDARIA COMPLETA   \n",
       "33588             UNIÓN LIBRE                      PRIMARIA COMPLETA   \n",
       "173089            UNIÓN LIBRE  LICENCIATURA O PROFESIONAL INCOMPLETO   \n",
       "\n",
       "                     ocupacion_madre  edad_madre fecha_nacimiento_vivo  \\\n",
       "1197261                   NO OCUPADO          36            22/12/2019   \n",
       "33588    NO REMUNERADO - AMA DE CASA          34            05/01/2019   \n",
       "173089   NO REMUNERADO - AMA DE CASA          23            17/01/2019   \n",
       "\n",
       "        hora_nacimiento_vivo  sexo_vivo  talla_vivo  peso_vivo        clues  \\\n",
       "1197261             14:02:00          2          52       3700  NLIMS000636   \n",
       "33588               20:40:00          1          50       3690  BCSSA000015   \n",
       "173089              04:17:00          1          49       3570  CSSSA009244   \n",
       "\n",
       "         entidad_nacimiento  municipio_nacimiento  localidad_nacimiento  \n",
       "1197261                  19                     6                     1  \n",
       "33588                     2                     1                     1  \n",
       "173089                    7                    89                     1  "
      ]
     },
     "execution_count": 14,
     "metadata": {},
     "output_type": "execute_result"
    }
   ],
   "source": [
    "data.sample(3)"
   ]
  },
  {
   "cell_type": "markdown",
   "metadata": {},
   "source": [
    "## Processing data from 2015"
   ]
  },
  {
   "cell_type": "code",
   "execution_count": 4,
   "metadata": {},
   "outputs": [
    {
     "name": "stderr",
     "output_type": "stream",
     "text": [
      "/tmp/ipykernel_24239/3592555958.py:1: DtypeWarning: Columns (5,6,7,54,60) have mixed types.Specify dtype option on import or set low_memory=False.\n",
      "  data = read_zip(2015)\n"
     ]
    }
   ],
   "source": [
    "data = read_zip(2015)"
   ]
  },
  {
   "cell_type": "code",
   "execution_count": 5,
   "metadata": {},
   "outputs": [
    {
     "name": "stdout",
     "output_type": "stream",
     "text": [
      "<class 'pandas.core.frame.DataFrame'>\n",
      "RangeIndex: 2145199 entries, 0 to 2145198\n",
      "Data columns (total 61 columns):\n",
      " #   Column                              Dtype \n",
      "---  ------                              ----- \n",
      " 0   edo_captura                         object\n",
      " 1   edo_nac_madre                       object\n",
      " 2   mpo_nac_madre                       object\n",
      " 3   fecha_nac_madre                     object\n",
      " 4   edad_madre                          int64 \n",
      " 5   madre_se_considera_indigena         object\n",
      " 6   madre_habla_lengua_indigena         object\n",
      " 7   lengua_indigena_hablada             object\n",
      " 8   estado_conyugal                     object\n",
      " 9   entidad_residencia_madre            object\n",
      " 10  municipio_residencia_madre          object\n",
      " 11  localidad_residencia_madre          object\n",
      " 12  numero_embarazos                    int64 \n",
      " 13  hijos_nacidos_muertos               int64 \n",
      " 14  hijos_nacidos_vivos                 int64 \n",
      " 15  hijos_sobrevivientes                int64 \n",
      " 16  el_hijo_anterior_nacio              object\n",
      " 17  vive_aun_hijo_anterior              object\n",
      " 18  orden_nacimiento                    int64 \n",
      " 19  recibio_atencion_prenatal           object\n",
      " 20  trimestre_recibio_primera_consulta  object\n",
      " 21  total_consultas_recibidas           int64 \n",
      " 22  madre_sobrevivio_al_parto           object\n",
      " 23  afiliacion_serv_salud               object\n",
      " 24  escolaridad_madre                   object\n",
      " 25  ocupacion_habitual_madre            object\n",
      " 26  trabaja_actualmente                 object\n",
      " 27  fecha_nacimiento_nac_vivo           object\n",
      " 28  hora_nacimiento_nac_vivo            object\n",
      " 29  sexo_nac_vivo                       object\n",
      " 30  semanas_gestacion_nac_vivo          int64 \n",
      " 31  talla_nac_vivo                      int64 \n",
      " 32  peso_nac_vivo                       int64 \n",
      " 33  valoracion_apgar_nac_vivo           int64 \n",
      " 34  valoracion_silverman_nac_vivo       int64 \n",
      " 35  recibio_vacuna_bcg                  object\n",
      " 36  recibio_vacuna_hep_b                object\n",
      " 37  recibio_vit_a                       object\n",
      " 38  recibio_vit_k                       object\n",
      " 39  se_realizo_tamiz_auditivo           object\n",
      " 40  producto_de_un_embarazo             object\n",
      " 41  codigo_anomalia                     object\n",
      " 42  anomalia_congenita_nac_vivo         object\n",
      " 43  procedimiento_utilizado             object\n",
      " 44  se_utilizaron_forceps               object\n",
      " 45  lugar_de_nacimiento                 object\n",
      " 46  nombre_unidad_medica                object\n",
      " 47  clues                               object\n",
      " 48  quien_atendio_parto                 object\n",
      " 49  entidad_nacimiento                  object\n",
      " 50  municipio_nacimiento                object\n",
      " 51  localidad_nacimiento                object\n",
      " 52  certificado_por                     object\n",
      " 53  unidad_medica_certifico             object\n",
      " 54  clues_certifico                     object\n",
      " 55  entidad_certifico                   object\n",
      " 56  municipio_certifico                 object\n",
      " 57  localidad_certifico                 object\n",
      " 58  fecha_certificacion                 object\n",
      " 59  fecha_captura                       object\n",
      " 60  tipo_formato                        object\n",
      "dtypes: int64(12), object(49)\n",
      "memory usage: 998.4+ MB\n"
     ]
    }
   ],
   "source": [
    "data.info()"
   ]
  },
  {
   "cell_type": "code",
   "execution_count": 6,
   "metadata": {},
   "outputs": [],
   "source": [
    "selected_columns = columns_names[f\"columns_16\"]"
   ]
  },
  {
   "cell_type": "code",
   "execution_count": 7,
   "metadata": {},
   "outputs": [
    {
     "data": {
      "text/plain": [
       "['edad_madre',\n",
       " 'estado_conyugal',\n",
       " 'escolaridad_madre',\n",
       " 'ocupacion_habitual_madre',\n",
       " 'fecha_nacimiento_nac_vivo',\n",
       " 'hora_nacimiento_nac_vivo',\n",
       " 'sexo_nac_vivo',\n",
       " 'talla_nac_vivo',\n",
       " 'peso_nac_vivo',\n",
       " 'clues',\n",
       " 'entidad_nacimiento',\n",
       " 'municipio_nacimiento',\n",
       " 'localidad_nacimiento']"
      ]
     },
     "execution_count": 7,
     "metadata": {},
     "output_type": "execute_result"
    }
   ],
   "source": [
    "selected_columns"
   ]
  },
  {
   "cell_type": "code",
   "execution_count": 8,
   "metadata": {},
   "outputs": [],
   "source": [
    "data = data[selected_columns]"
   ]
  },
  {
   "cell_type": "code",
   "execution_count": 9,
   "metadata": {},
   "outputs": [
    {
     "name": "stdout",
     "output_type": "stream",
     "text": [
      "<class 'pandas.core.frame.DataFrame'>\n",
      "RangeIndex: 2145199 entries, 0 to 2145198\n",
      "Data columns (total 13 columns):\n",
      " #   Column                     Dtype \n",
      "---  ------                     ----- \n",
      " 0   edad_madre                 int64 \n",
      " 1   estado_conyugal            object\n",
      " 2   escolaridad_madre          object\n",
      " 3   ocupacion_habitual_madre   object\n",
      " 4   fecha_nacimiento_nac_vivo  object\n",
      " 5   hora_nacimiento_nac_vivo   object\n",
      " 6   sexo_nac_vivo              object\n",
      " 7   talla_nac_vivo             int64 \n",
      " 8   peso_nac_vivo              int64 \n",
      " 9   clues                      object\n",
      " 10  entidad_nacimiento         object\n",
      " 11  municipio_nacimiento       object\n",
      " 12  localidad_nacimiento       object\n",
      "dtypes: int64(3), object(10)\n",
      "memory usage: 212.8+ MB\n"
     ]
    }
   ],
   "source": [
    "data.info()"
   ]
  },
  {
   "cell_type": "code",
   "execution_count": 10,
   "metadata": {},
   "outputs": [
    {
     "data": {
      "text/html": [
       "<div>\n",
       "<style scoped>\n",
       "    .dataframe tbody tr th:only-of-type {\n",
       "        vertical-align: middle;\n",
       "    }\n",
       "\n",
       "    .dataframe tbody tr th {\n",
       "        vertical-align: top;\n",
       "    }\n",
       "\n",
       "    .dataframe thead th {\n",
       "        text-align: right;\n",
       "    }\n",
       "</style>\n",
       "<table border=\"1\" class=\"dataframe\">\n",
       "  <thead>\n",
       "    <tr style=\"text-align: right;\">\n",
       "      <th></th>\n",
       "      <th>edad_madre</th>\n",
       "      <th>estado_conyugal</th>\n",
       "      <th>escolaridad_madre</th>\n",
       "      <th>ocupacion_habitual_madre</th>\n",
       "      <th>fecha_nacimiento_nac_vivo</th>\n",
       "      <th>hora_nacimiento_nac_vivo</th>\n",
       "      <th>sexo_nac_vivo</th>\n",
       "      <th>talla_nac_vivo</th>\n",
       "      <th>peso_nac_vivo</th>\n",
       "      <th>clues</th>\n",
       "      <th>entidad_nacimiento</th>\n",
       "      <th>municipio_nacimiento</th>\n",
       "      <th>localidad_nacimiento</th>\n",
       "    </tr>\n",
       "  </thead>\n",
       "  <tbody>\n",
       "    <tr>\n",
       "      <th>1115866</th>\n",
       "      <td>38</td>\n",
       "      <td>UNIÓN LIBRE</td>\n",
       "      <td>PRIMARIA COMPLETA</td>\n",
       "      <td>NO REMUNERADO - AMA DE CASA</td>\n",
       "      <td>16/08/2015</td>\n",
       "      <td>02:04</td>\n",
       "      <td>HOMBRE</td>\n",
       "      <td>50</td>\n",
       "      <td>3500</td>\n",
       "      <td>QRSSA001044</td>\n",
       "      <td>QUINTANA ROO</td>\n",
       "      <td>BENITO JUAREZ</td>\n",
       "      <td>CANCUN</td>\n",
       "    </tr>\n",
       "    <tr>\n",
       "      <th>918457</th>\n",
       "      <td>34</td>\n",
       "      <td>CASADA</td>\n",
       "      <td>SECUNDARIA COMPLETA</td>\n",
       "      <td>NO REMUNERADO - AMA DE CASA</td>\n",
       "      <td>11/11/2015</td>\n",
       "      <td>08:40</td>\n",
       "      <td>HOMBRE</td>\n",
       "      <td>51</td>\n",
       "      <td>4000</td>\n",
       "      <td>TSIMS000276</td>\n",
       "      <td>TAMAULIPAS</td>\n",
       "      <td>NUEVO LAREDO</td>\n",
       "      <td>NUEVO LAREDO</td>\n",
       "    </tr>\n",
       "    <tr>\n",
       "      <th>709336</th>\n",
       "      <td>28</td>\n",
       "      <td>CASADA</td>\n",
       "      <td>SECUNDARIA COMPLETA</td>\n",
       "      <td>NO REMUNERADO - AMA DE CASA</td>\n",
       "      <td>01/10/2015</td>\n",
       "      <td>16:27</td>\n",
       "      <td>HOMBRE</td>\n",
       "      <td>99</td>\n",
       "      <td>1800</td>\n",
       "      <td>MSIMS000054</td>\n",
       "      <td>MORELOS</td>\n",
       "      <td>CUERNAVACA</td>\n",
       "      <td>CUERNAVACA</td>\n",
       "    </tr>\n",
       "  </tbody>\n",
       "</table>\n",
       "</div>"
      ],
      "text/plain": [
       "         edad_madre estado_conyugal    escolaridad_madre  \\\n",
       "1115866          38     UNIÓN LIBRE    PRIMARIA COMPLETA   \n",
       "918457           34          CASADA  SECUNDARIA COMPLETA   \n",
       "709336           28          CASADA  SECUNDARIA COMPLETA   \n",
       "\n",
       "            ocupacion_habitual_madre fecha_nacimiento_nac_vivo  \\\n",
       "1115866  NO REMUNERADO - AMA DE CASA                16/08/2015   \n",
       "918457   NO REMUNERADO - AMA DE CASA                11/11/2015   \n",
       "709336   NO REMUNERADO - AMA DE CASA                01/10/2015   \n",
       "\n",
       "        hora_nacimiento_nac_vivo sexo_nac_vivo  talla_nac_vivo  peso_nac_vivo  \\\n",
       "1115866                    02:04        HOMBRE              50           3500   \n",
       "918457                     08:40        HOMBRE              51           4000   \n",
       "709336                     16:27        HOMBRE              99           1800   \n",
       "\n",
       "               clues entidad_nacimiento municipio_nacimiento  \\\n",
       "1115866  QRSSA001044       QUINTANA ROO        BENITO JUAREZ   \n",
       "918457   TSIMS000276         TAMAULIPAS         NUEVO LAREDO   \n",
       "709336   MSIMS000054            MORELOS           CUERNAVACA   \n",
       "\n",
       "        localidad_nacimiento  \n",
       "1115866               CANCUN  \n",
       "918457          NUEVO LAREDO  \n",
       "709336            CUERNAVACA  "
      ]
     },
     "execution_count": 10,
     "metadata": {},
     "output_type": "execute_result"
    }
   ],
   "source": [
    "data.sample(3)"
   ]
  },
  {
   "cell_type": "code",
   "execution_count": 11,
   "metadata": {},
   "outputs": [
    {
     "data": {
      "text/plain": [
       "array(['UNIÓN LIBRE', 'SOLTERA', 'CASADA', 'S.I.', 'VIUDA', 'SEPARADA',\n",
       "       'DIVORCIADA', 'N.E.'], dtype=object)"
      ]
     },
     "execution_count": 11,
     "metadata": {},
     "output_type": "execute_result"
    }
   ],
   "source": [
    "data[\"estado_conyugal\"].unique()"
   ]
  },
  {
   "cell_type": "code",
   "execution_count": 12,
   "metadata": {},
   "outputs": [
    {
     "data": {
      "text/plain": [
       "array(['SECUNDARIA COMPLETA', 'SECUNDARIA INCOMPLETA',\n",
       "       'BACHILLERATO O PREPARATORIA INCOMPLETA', 'PRIMARIA COMPLETA',\n",
       "       'PROFESIONAL', 'BACHILLERATO O PREPARATORIA COMPLETA',\n",
       "       'PRIMARIA INCOMPLETA', 'NINGUNA', 'S.I.', 'POSGRADO', 'N.E.',\n",
       "       'PROFESIONAL INCOMPLETO', 'POSGRADO INCOMPLETO'], dtype=object)"
      ]
     },
     "execution_count": 12,
     "metadata": {},
     "output_type": "execute_result"
    }
   ],
   "source": [
    "data[\"escolaridad_madre\"].unique()"
   ]
  },
  {
   "cell_type": "code",
   "execution_count": 13,
   "metadata": {},
   "outputs": [
    {
     "data": {
      "text/plain": [
       "array(['NO REMUNERADO - AMA DE CASA', 'TÉCNICOS',\n",
       "       'TRABAJADORES SERVICIOS DOMÉSTICOS (ASEO, CONSERJE, COCINERO, COSTURERA, PANADERO, MECÁNICO,CARGADOR)',\n",
       "       'NO REMUNERADO - ESTUDIANTE', 'NO OCUPADO', 'PROFESIONISTAS',\n",
       "       'COMERCIANTES, AMBULANTES, DEPENDIENTES, AGENTES DE VENTAS',\n",
       "       'EMPLEADOS DE SECTORES PÚBLICO Y PRIVADO',\n",
       "       'ARTESANOS, FABRILES, OPERADORES, AYUDANTES Y PEONES EN PROCESOS ARTESANALES E INDUSTRIALES,ALBAÑILES',\n",
       "       'TRABAJADORES SERVICIOS PERSONALES', 'OTROS',\n",
       "       'TRABAJADORES DEL ARTE, ESPECTÁCULOS Y DEPORTES',\n",
       "       'TRABAJADORES SERVICIOS DE TRANSPORTE',\n",
       "       'JEFES DE DEPARTAMENTO, COORDINADORES Y SUPERVISORES DE ACTIVIDADES INDUSTRIALES',\n",
       "       'TRABAJADORES DE LA EDUCACIÓN', 'N.E.',\n",
       "       'TRABAJADORES EN SERVICIOS DE PROTECCIÓN (SOLDADOS, FEDERALES, MARINA) Y VIGILANCIA',\n",
       "       'FUNCIONARIOS Y DIRECTIVOS DE SECTORES PÚBLICO, PRIVADO Y SOCIAL',\n",
       "       'S.I.',\n",
       "       'TRABAJADORES EN ACTIVIDADES AGRÍCOLAS, GANADERAS, SILVÍCOLAS, DE CAZA Y PESCA',\n",
       "       'NO OCUPADO - JUBILADO O PENSIONADO'], dtype=object)"
      ]
     },
     "execution_count": 13,
     "metadata": {},
     "output_type": "execute_result"
    }
   ],
   "source": [
    "data[\"ocupacion_habitual_madre\"].unique()"
   ]
  },
  {
   "cell_type": "code",
   "execution_count": 15,
   "metadata": {},
   "outputs": [
    {
     "data": {
      "text/plain": [
       "('S.I.', 'SE IGNORA')"
      ]
     },
     "execution_count": 15,
     "metadata": {},
     "output_type": "execute_result"
    }
   ],
   "source": [
    "[('S.I.','SE IGNORA'),('N.E.','NO ESPECIFICADO')]"
   ]
  },
  {
   "cell_type": "code",
   "execution_count": null,
   "metadata": {},
   "outputs": [],
   "source": []
  }
 ],
 "metadata": {
  "interpreter": {
   "hash": "91fded6cad38740f1e539e12633a0501faa5676c056fe6efe03de36f8799fcb8"
  },
  "kernelspec": {
   "display_name": "Python 3.10.0 64-bit ('test': conda)",
   "language": "python",
   "name": "python3"
  },
  "language_info": {
   "codemirror_mode": {
    "name": "ipython",
    "version": 3
   },
   "file_extension": ".py",
   "mimetype": "text/x-python",
   "name": "python",
   "nbconvert_exporter": "python",
   "pygments_lexer": "ipython3",
   "version": "3.10.0"
  },
  "orig_nbformat": 4
 },
 "nbformat": 4,
 "nbformat_minor": 2
}
