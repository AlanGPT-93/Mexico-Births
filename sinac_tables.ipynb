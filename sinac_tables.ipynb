{
 "cells": [
  {
   "cell_type": "code",
   "execution_count": 1,
   "metadata": {},
   "outputs": [],
   "source": [
    "# importing libraries\n",
    "from zipfile import ZipFile\n",
    "import numpy as np\n",
    "import openpyxl\n",
    "import pandas as pd\n"
   ]
  },
  {
   "cell_type": "code",
   "execution_count": 2,
   "metadata": {},
   "outputs": [],
   "source": [
    "def read_zip(year):\n",
    "    # specifying the zip file directory\n",
    "    file_name = f\"/mnt/d/Mexico_Births/sinac_{year}.zip\"\n",
    "    \n",
    "    # opening the zip file in READ mode\n",
    "    with ZipFile(file_name, 'r') as zip:\n",
    "        # listing all the contents of the zip file\n",
    "        file_list = zip.filelist\n",
    "        # getting a DataFrame from the file in the index 0\n",
    "        data = pd.read_csv(zip.open(file_list[0].filename) )\n",
    "    return data"
   ]
  },
  {
   "cell_type": "code",
   "execution_count": 3,
   "metadata": {},
   "outputs": [],
   "source": [
    "# columns names for different year \n",
    "columns_names = {\"columns_20\" : [\"EDAD\",\"ESTADOCONYUGAL\",\"ESCOLARIDAD\",\"CLAVEOCUPACIONHABITUAL\",\"FECHANACIMIENTO\",\\\n",
    "\"HORANACIMIENTO\", \"SEXO\", \"TALLA\", \"PESO\", \"CLUES\", \"ENTIDADFEDERATIVAPARTO\", \"MUNICIPIOPARTO\",\\\n",
    "\"LOCALIDADPARTO\"], \n",
    "\n",
    "\"columns_19\" : [\"EDADM\",\"EDOCIVIL\",\"NIV_ESCOL\",\"CVEOCUPHAB\",\"FECH_NACH\",\\\n",
    "\"HORA_NACH\", \"SEXOH\", \"TALLAH\", \"PESOH\", \"CLUES\", \"ENT_NAC\", \"MPO_NAC\",\\\n",
    "\"LOC_NAC\"],\n",
    "\n",
    "\"columns_16\" : [\"edad_madre\",\"estado_conyugal\",\"escolaridad_madre\",\"ocupacion_habitual_madre\",\"fecha_nacimiento_nac_vivo\",\\\n",
    "\"hora_nacimiento_nac_vivo\", \"sexo_nac_vivo\", \"talla_nac_vivo\", \"peso_nac_vivo\", \"clues\", \"entidad_nacimiento\", \"municipio_nacimiento\",\\\n",
    "\"localidad_nacimiento\"],\n",
    "\n",
    "\"new_columns\": [\"estado_conyugal_madre\",\"escolaridad_madre\",\"ocupacion_madre\", \"edad_madre\",\"fecha_nacimiento_vivo\",\\\n",
    "\"hora_nacimiento_vivo\", \"sexo_vivo\", \"talla_vivo\", \"peso_vivo\", \"clues\", \"entidad_nacimiento\", \"municipio_nacimiento\",\\\n",
    "\"localidad_nacimiento\"]\n",
    "}"
   ]
  },
  {
   "cell_type": "code",
   "execution_count": 4,
   "metadata": {},
   "outputs": [
    {
     "name": "stdout",
     "output_type": "stream",
     "text": [
      "('estado_conyugal', 'sexo', 'escolaridad', 'ocupacion2020', 'ocupacion2019')\n"
     ]
    }
   ],
   "source": [
    "# reading births_colnames file which contains tables to join on main data\n",
    "file_name = f\"/mnt/d/Mexico_Births/births_colnames.xlsx\"\n",
    "aux_data = pd.read_excel(file_name, sheet_name= None)\n",
    "aux_sheets = tuple(aux_data.keys())[4:] # taking sheets to join \n",
    "print(aux_sheets) "
   ]
  },
  {
   "cell_type": "code",
   "execution_count": 5,
   "metadata": {},
   "outputs": [
    {
     "data": {
      "text/html": [
       "<div>\n",
       "<style scoped>\n",
       "    .dataframe tbody tr th:only-of-type {\n",
       "        vertical-align: middle;\n",
       "    }\n",
       "\n",
       "    .dataframe tbody tr th {\n",
       "        vertical-align: top;\n",
       "    }\n",
       "\n",
       "    .dataframe thead th {\n",
       "        text-align: right;\n",
       "    }\n",
       "</style>\n",
       "<table border=\"1\" class=\"dataframe\">\n",
       "  <thead>\n",
       "    <tr style=\"text-align: right;\">\n",
       "      <th></th>\n",
       "      <th>Clave_2020</th>\n",
       "      <th>Clave_2019_2016</th>\n",
       "      <th>desc_hom_cony</th>\n",
       "    </tr>\n",
       "  </thead>\n",
       "  <tbody>\n",
       "    <tr>\n",
       "      <th>0</th>\n",
       "      <td>5</td>\n",
       "      <td>11</td>\n",
       "      <td>CASADA</td>\n",
       "    </tr>\n",
       "    <tr>\n",
       "      <th>1</th>\n",
       "      <td>1</td>\n",
       "      <td>12</td>\n",
       "      <td>SOLTERA</td>\n",
       "    </tr>\n",
       "    <tr>\n",
       "      <th>2</th>\n",
       "      <td>3</td>\n",
       "      <td>13</td>\n",
       "      <td>DIVORCIADA</td>\n",
       "    </tr>\n",
       "    <tr>\n",
       "      <th>3</th>\n",
       "      <td>2</td>\n",
       "      <td>14</td>\n",
       "      <td>VIUDA</td>\n",
       "    </tr>\n",
       "    <tr>\n",
       "      <th>4</th>\n",
       "      <td>4</td>\n",
       "      <td>15</td>\n",
       "      <td>UNIÓN LIBRE</td>\n",
       "    </tr>\n",
       "    <tr>\n",
       "      <th>5</th>\n",
       "      <td>6</td>\n",
       "      <td>16</td>\n",
       "      <td>SEPARADA</td>\n",
       "    </tr>\n",
       "    <tr>\n",
       "      <th>6</th>\n",
       "      <td>0</td>\n",
       "      <td>88</td>\n",
       "      <td>NO ESPECIFICADO</td>\n",
       "    </tr>\n",
       "    <tr>\n",
       "      <th>7</th>\n",
       "      <td>9</td>\n",
       "      <td>99</td>\n",
       "      <td>SE IGNORA</td>\n",
       "    </tr>\n",
       "  </tbody>\n",
       "</table>\n",
       "</div>"
      ],
      "text/plain": [
       "   Clave_2020  Clave_2019_2016    desc_hom_cony\n",
       "0           5               11           CASADA\n",
       "1           1               12          SOLTERA\n",
       "2           3               13       DIVORCIADA\n",
       "3           2               14            VIUDA\n",
       "4           4               15      UNIÓN LIBRE\n",
       "5           6               16         SEPARADA\n",
       "6           0               88  NO ESPECIFICADO\n",
       "7           9               99        SE IGNORA"
      ]
     },
     "execution_count": 5,
     "metadata": {},
     "output_type": "execute_result"
    }
   ],
   "source": [
    "aux_data[aux_sheets[0]] # estado counyugal table"
   ]
  },
  {
   "cell_type": "code",
   "execution_count": 6,
   "metadata": {},
   "outputs": [
    {
     "data": {
      "text/html": [
       "<div>\n",
       "<style scoped>\n",
       "    .dataframe tbody tr th:only-of-type {\n",
       "        vertical-align: middle;\n",
       "    }\n",
       "\n",
       "    .dataframe tbody tr th {\n",
       "        vertical-align: top;\n",
       "    }\n",
       "\n",
       "    .dataframe thead th {\n",
       "        text-align: right;\n",
       "    }\n",
       "</style>\n",
       "<table border=\"1\" class=\"dataframe\">\n",
       "  <thead>\n",
       "    <tr style=\"text-align: right;\">\n",
       "      <th></th>\n",
       "      <th>Clave_2020</th>\n",
       "      <th>Clave_2019_2016</th>\n",
       "      <th>desc_hom_sex</th>\n",
       "    </tr>\n",
       "  </thead>\n",
       "  <tbody>\n",
       "    <tr>\n",
       "      <th>0</th>\n",
       "      <td>0</td>\n",
       "      <td>0</td>\n",
       "      <td>NO ESPECIFICADO</td>\n",
       "    </tr>\n",
       "    <tr>\n",
       "      <th>1</th>\n",
       "      <td>1</td>\n",
       "      <td>1</td>\n",
       "      <td>HOMBRE</td>\n",
       "    </tr>\n",
       "    <tr>\n",
       "      <th>2</th>\n",
       "      <td>2</td>\n",
       "      <td>2</td>\n",
       "      <td>MUJER</td>\n",
       "    </tr>\n",
       "    <tr>\n",
       "      <th>3</th>\n",
       "      <td>9</td>\n",
       "      <td>9</td>\n",
       "      <td>SE IGNORA</td>\n",
       "    </tr>\n",
       "  </tbody>\n",
       "</table>\n",
       "</div>"
      ],
      "text/plain": [
       "   Clave_2020  Clave_2019_2016     desc_hom_sex\n",
       "0           0                0  NO ESPECIFICADO\n",
       "1           1                1           HOMBRE\n",
       "2           2                2            MUJER\n",
       "3           9                9        SE IGNORA"
      ]
     },
     "execution_count": 6,
     "metadata": {},
     "output_type": "execute_result"
    }
   ],
   "source": [
    "aux_data[aux_sheets[1]] # genero table"
   ]
  },
  {
   "cell_type": "code",
   "execution_count": 7,
   "metadata": {},
   "outputs": [
    {
     "data": {
      "text/html": [
       "<div>\n",
       "<style scoped>\n",
       "    .dataframe tbody tr th:only-of-type {\n",
       "        vertical-align: middle;\n",
       "    }\n",
       "\n",
       "    .dataframe tbody tr th {\n",
       "        vertical-align: top;\n",
       "    }\n",
       "\n",
       "    .dataframe thead th {\n",
       "        text-align: right;\n",
       "    }\n",
       "</style>\n",
       "<table border=\"1\" class=\"dataframe\">\n",
       "  <thead>\n",
       "    <tr style=\"text-align: right;\">\n",
       "      <th></th>\n",
       "      <th>Clave_2020</th>\n",
       "      <th>Clave_2019_2016</th>\n",
       "      <th>desc_hom_esc</th>\n",
       "    </tr>\n",
       "  </thead>\n",
       "  <tbody>\n",
       "    <tr>\n",
       "      <th>0</th>\n",
       "      <td>0</td>\n",
       "      <td>0</td>\n",
       "      <td>NO ESPECIFICADO</td>\n",
       "    </tr>\n",
       "    <tr>\n",
       "      <th>1</th>\n",
       "      <td>1</td>\n",
       "      <td>1</td>\n",
       "      <td>NINGUNA</td>\n",
       "    </tr>\n",
       "    <tr>\n",
       "      <th>2</th>\n",
       "      <td>31</td>\n",
       "      <td>3</td>\n",
       "      <td>PRIMARIA COMPLETA</td>\n",
       "    </tr>\n",
       "    <tr>\n",
       "      <th>3</th>\n",
       "      <td>32</td>\n",
       "      <td>2</td>\n",
       "      <td>PRIMARIA INCOMPLETA</td>\n",
       "    </tr>\n",
       "    <tr>\n",
       "      <th>4</th>\n",
       "      <td>51</td>\n",
       "      <td>5</td>\n",
       "      <td>SECUNDARIA COMPLETA</td>\n",
       "    </tr>\n",
       "  </tbody>\n",
       "</table>\n",
       "</div>"
      ],
      "text/plain": [
       "   Clave_2020  Clave_2019_2016         desc_hom_esc\n",
       "0           0                0      NO ESPECIFICADO\n",
       "1           1                1              NINGUNA\n",
       "2          31                3    PRIMARIA COMPLETA\n",
       "3          32                2  PRIMARIA INCOMPLETA\n",
       "4          51                5  SECUNDARIA COMPLETA"
      ]
     },
     "execution_count": 7,
     "metadata": {},
     "output_type": "execute_result"
    }
   ],
   "source": [
    "aux_data[aux_sheets[2]].head() # escolaridad table"
   ]
  },
  {
   "cell_type": "code",
   "execution_count": 12,
   "metadata": {},
   "outputs": [],
   "source": [
    "def get_unified_data(year):\n",
    "    data = read_zip(year) # reading zip file to get a DF\n",
    "\n",
    "    # selecting columns\n",
    "    if year == 2020:\n",
    "        key_ = f\"Clave_{str(year)}\"\n",
    "        selected_columns = columns_names[f\"columns_{str(year)[-2:]}\"]\n",
    "        job_id = 3\n",
    "    elif year in [2019, 2018, 2017]:\n",
    "        selected_columns = columns_names[f\"columns_19\"]\n",
    "        key_ = f\"Clave_2019_2016\"\n",
    "        job_id = 4\n",
    "    else:\n",
    "        selected_columns = columns_names[f\"columns_16\"]\n",
    "        key_ = f\"Clave_2019_2016\"\n",
    "        job_id = 4\n",
    "     \n",
    "    data = data[selected_columns] \n",
    "    \n",
    "    # joining with auxiliar tables\n",
    "    data = pd.merge(data, aux_data[aux_sheets[0]], how=\"left\", left_on=selected_columns[1], right_on=key_)\n",
    "    data = pd.merge(data, aux_data[aux_sheets[1]], how=\"left\", left_on=selected_columns[6], right_on=key_)\n",
    "    data = pd.merge(data, aux_data[aux_sheets[2]], how=\"left\", left_on=selected_columns[2], right_on=key_)\n",
    "    data = pd.merge(data, aux_data[aux_sheets[job_id]], how=\"left\", left_on=selected_columns[3], right_on=key_)\n",
    "\n",
    "    # sorting and renaming columns\n",
    "    only_columns = [-9, -3, -1, 0, 4, 5, 6, 7, 8, 9, 10, 11, 12]\n",
    "    data = data.iloc[:,only_columns]\n",
    "    data.columns = columns_names[\"new_columns\"]\n",
    "\n",
    "    return data"
   ]
  },
  {
   "cell_type": "code",
   "execution_count": 13,
   "metadata": {},
   "outputs": [
    {
     "name": "stderr",
     "output_type": "stream",
     "text": [
      "/tmp/ipykernel_22401/3537065925.py:2: DtypeWarning: Columns (7,51,56,63,65) have mixed types.Specify dtype option on import or set low_memory=False.\n",
      "  data = read_zip(year) # reading zip file to get a DF\n",
      "/tmp/ipykernel_22401/3537065925.py:24: FutureWarning: Passing 'suffixes' which cause duplicate columns {'Clave_2019_2016_x'} in the result is deprecated and will raise a MergeError in a future version.\n",
      "  data = pd.merge(data, aux_data[aux_sheets[job_id]], how=\"left\", left_on=selected_columns[3], right_on=key_)\n"
     ]
    }
   ],
   "source": [
    "data = get_unified_data(2019)"
   ]
  },
  {
   "cell_type": "code",
   "execution_count": 14,
   "metadata": {},
   "outputs": [
    {
     "data": {
      "text/html": [
       "<div>\n",
       "<style scoped>\n",
       "    .dataframe tbody tr th:only-of-type {\n",
       "        vertical-align: middle;\n",
       "    }\n",
       "\n",
       "    .dataframe tbody tr th {\n",
       "        vertical-align: top;\n",
       "    }\n",
       "\n",
       "    .dataframe thead th {\n",
       "        text-align: right;\n",
       "    }\n",
       "</style>\n",
       "<table border=\"1\" class=\"dataframe\">\n",
       "  <thead>\n",
       "    <tr style=\"text-align: right;\">\n",
       "      <th></th>\n",
       "      <th>estado_conyugal_madre</th>\n",
       "      <th>escolaridad_madre</th>\n",
       "      <th>ocupacion_madre</th>\n",
       "      <th>edad_madre</th>\n",
       "      <th>fecha_nacimiento_vivo</th>\n",
       "      <th>hora_nacimiento_vivo</th>\n",
       "      <th>sexo_vivo</th>\n",
       "      <th>talla_vivo</th>\n",
       "      <th>peso_vivo</th>\n",
       "      <th>clues</th>\n",
       "      <th>entidad_nacimiento</th>\n",
       "      <th>municipio_nacimiento</th>\n",
       "      <th>localidad_nacimiento</th>\n",
       "    </tr>\n",
       "  </thead>\n",
       "  <tbody>\n",
       "    <tr>\n",
       "      <th>1197261</th>\n",
       "      <td>CASADA</td>\n",
       "      <td>SECUNDARIA COMPLETA</td>\n",
       "      <td>NO OCUPADO</td>\n",
       "      <td>36</td>\n",
       "      <td>22/12/2019</td>\n",
       "      <td>14:02:00</td>\n",
       "      <td>2</td>\n",
       "      <td>52</td>\n",
       "      <td>3700</td>\n",
       "      <td>NLIMS000636</td>\n",
       "      <td>19</td>\n",
       "      <td>6</td>\n",
       "      <td>1</td>\n",
       "    </tr>\n",
       "    <tr>\n",
       "      <th>33588</th>\n",
       "      <td>UNIÓN LIBRE</td>\n",
       "      <td>PRIMARIA COMPLETA</td>\n",
       "      <td>NO REMUNERADO - AMA DE CASA</td>\n",
       "      <td>34</td>\n",
       "      <td>05/01/2019</td>\n",
       "      <td>20:40:00</td>\n",
       "      <td>1</td>\n",
       "      <td>50</td>\n",
       "      <td>3690</td>\n",
       "      <td>BCSSA000015</td>\n",
       "      <td>2</td>\n",
       "      <td>1</td>\n",
       "      <td>1</td>\n",
       "    </tr>\n",
       "    <tr>\n",
       "      <th>173089</th>\n",
       "      <td>UNIÓN LIBRE</td>\n",
       "      <td>LICENCIATURA O PROFESIONAL INCOMPLETO</td>\n",
       "      <td>NO REMUNERADO - AMA DE CASA</td>\n",
       "      <td>23</td>\n",
       "      <td>17/01/2019</td>\n",
       "      <td>04:17:00</td>\n",
       "      <td>1</td>\n",
       "      <td>49</td>\n",
       "      <td>3570</td>\n",
       "      <td>CSSSA009244</td>\n",
       "      <td>7</td>\n",
       "      <td>89</td>\n",
       "      <td>1</td>\n",
       "    </tr>\n",
       "  </tbody>\n",
       "</table>\n",
       "</div>"
      ],
      "text/plain": [
       "        estado_conyugal_madre                      escolaridad_madre  \\\n",
       "1197261                CASADA                    SECUNDARIA COMPLETA   \n",
       "33588             UNIÓN LIBRE                      PRIMARIA COMPLETA   \n",
       "173089            UNIÓN LIBRE  LICENCIATURA O PROFESIONAL INCOMPLETO   \n",
       "\n",
       "                     ocupacion_madre  edad_madre fecha_nacimiento_vivo  \\\n",
       "1197261                   NO OCUPADO          36            22/12/2019   \n",
       "33588    NO REMUNERADO - AMA DE CASA          34            05/01/2019   \n",
       "173089   NO REMUNERADO - AMA DE CASA          23            17/01/2019   \n",
       "\n",
       "        hora_nacimiento_vivo  sexo_vivo  talla_vivo  peso_vivo        clues  \\\n",
       "1197261             14:02:00          2          52       3700  NLIMS000636   \n",
       "33588               20:40:00          1          50       3690  BCSSA000015   \n",
       "173089              04:17:00          1          49       3570  CSSSA009244   \n",
       "\n",
       "         entidad_nacimiento  municipio_nacimiento  localidad_nacimiento  \n",
       "1197261                  19                     6                     1  \n",
       "33588                     2                     1                     1  \n",
       "173089                    7                    89                     1  "
      ]
     },
     "execution_count": 14,
     "metadata": {},
     "output_type": "execute_result"
    }
   ],
   "source": [
    "data.sample(3)"
   ]
  },
  {
   "cell_type": "code",
   "execution_count": 6,
   "metadata": {},
   "outputs": [],
   "source": [
    "data = data[columns_20]"
   ]
  },
  {
   "cell_type": "code",
   "execution_count": 7,
   "metadata": {},
   "outputs": [
    {
     "name": "stdout",
     "output_type": "stream",
     "text": [
      "<class 'pandas.core.frame.DataFrame'>\n",
      "RangeIndex: 1747847 entries, 0 to 1747846\n",
      "Data columns (total 13 columns):\n",
      " #   Column                  Dtype \n",
      "---  ------                  ----- \n",
      " 0   EDAD                    int64 \n",
      " 1   ESTADOCONYUGAL          int64 \n",
      " 2   ESCOLARIDAD             int64 \n",
      " 3   CLAVEOCUPACIONHABITUAL  int64 \n",
      " 4   FECHANACIMIENTO         object\n",
      " 5   HORANACIMIENTO          object\n",
      " 6   SEXO                    int64 \n",
      " 7   TALLA                   int64 \n",
      " 8   PESO                    int64 \n",
      " 9   CLUES                   object\n",
      " 10  ENTIDADFEDERATIVAPARTO  int64 \n",
      " 11  MUNICIPIOPARTO          int64 \n",
      " 12  LOCALIDADPARTO          int64 \n",
      "dtypes: int64(10), object(3)\n",
      "memory usage: 173.4+ MB\n"
     ]
    }
   ],
   "source": [
    "data.info()"
   ]
  },
  {
   "cell_type": "code",
   "execution_count": 8,
   "metadata": {},
   "outputs": [
    {
     "name": "stderr",
     "output_type": "stream",
     "text": [
      "/tmp/ipykernel_15788/3021495784.py:4: FutureWarning: Passing 'suffixes' which cause duplicate columns {'Clave_2020_x'} in the result is deprecated and will raise a MergeError in a future version.\n",
      "  data = pd.merge(data, aux_data[aux_sheets[3]], how=\"left\", left_on=\"CLAVEOCUPACIONHABITUAL\", right_on=\"Clave_2020\")\n"
     ]
    }
   ],
   "source": [
    "data = pd.merge(data, aux_data[aux_sheets[0]], how=\"left\", left_on=\"ESTADOCONYUGAL\", right_on=\"Clave_2020\")\n",
    "data = pd.merge(data, aux_data[aux_sheets[1]], how=\"left\", left_on=\"SEXO\", right_on=\"Clave_2020\")\n",
    "data = pd.merge(data, aux_data[aux_sheets[2]], how=\"left\", left_on=\"ESCOLARIDAD\", right_on=\"Clave_2020\")\n",
    "data = pd.merge(data, aux_data[aux_sheets[3]], how=\"left\", left_on=\"CLAVEOCUPACIONHABITUAL\", right_on=\"Clave_2020\")"
   ]
  },
  {
   "cell_type": "code",
   "execution_count": 16,
   "metadata": {},
   "outputs": [
    {
     "data": {
      "text/plain": [
       "Index(['EDAD', 'ESTADOCONYUGAL', 'ESCOLARIDAD', 'CLAVEOCUPACIONHABITUAL',\n",
       "       'FECHANACIMIENTO', 'HORANACIMIENTO', 'SEXO', 'TALLA', 'PESO', 'CLUES',\n",
       "       'ENTIDADFEDERATIVAPARTO', 'MUNICIPIOPARTO', 'LOCALIDADPARTO',\n",
       "       'Clave_2020_x', 'Clave_2019_2015_x', 'desc_hom_cony', 'Clave_2020_y',\n",
       "       'Clave_2019_2015_y', 'desc_hom_sex', 'Clave_2020_x', 'Clave_2019_2015',\n",
       "       'desc_hom_esc', 'Clave_2020_y', 'desc_hom_ocup'],\n",
       "      dtype='object')"
      ]
     },
     "execution_count": 16,
     "metadata": {},
     "output_type": "execute_result"
    }
   ],
   "source": [
    "data.columns"
   ]
  },
  {
   "cell_type": "code",
   "execution_count": 13,
   "metadata": {},
   "outputs": [],
   "source": [
    "only_columns = [-9, -3, -1, 0, 4, 5, 6, 7, 8, 9, 10, 11, 12]"
   ]
  },
  {
   "cell_type": "code",
   "execution_count": 17,
   "metadata": {},
   "outputs": [],
   "source": [
    "data = data.iloc[:,only_columns]"
   ]
  },
  {
   "cell_type": "code",
   "execution_count": 21,
   "metadata": {},
   "outputs": [
    {
     "name": "stdout",
     "output_type": "stream",
     "text": [
      "<class 'pandas.core.frame.DataFrame'>\n",
      "Int64Index: 1747847 entries, 0 to 1747846\n",
      "Data columns (total 13 columns):\n",
      " #   Column                  Dtype \n",
      "---  ------                  ----- \n",
      " 0   desc_hom_cony           object\n",
      " 1   desc_hom_esc            object\n",
      " 2   desc_hom_ocup           object\n",
      " 3   EDAD                    int64 \n",
      " 4   FECHANACIMIENTO         object\n",
      " 5   HORANACIMIENTO          object\n",
      " 6   SEXO                    int64 \n",
      " 7   TALLA                   int64 \n",
      " 8   PESO                    int64 \n",
      " 9   CLUES                   object\n",
      " 10  ENTIDADFEDERATIVAPARTO  int64 \n",
      " 11  MUNICIPIOPARTO          int64 \n",
      " 12  LOCALIDADPARTO          int64 \n",
      "dtypes: int64(7), object(6)\n",
      "memory usage: 186.7+ MB\n"
     ]
    }
   ],
   "source": [
    "data.info()"
   ]
  },
  {
   "cell_type": "code",
   "execution_count": 22,
   "metadata": {},
   "outputs": [],
   "source": [
    "data.columns = [\"estado_conyugal_madre\",\"escolaridad_madre\",\"ocupacion_madre\", \"edad_madre\",\"fecha_nacimiento_vivo\",\\\n",
    "    \"hora_nacimiento_vivo\", \"sexo_vivo\", \"talla_vivo\", \"peso_vivo\", \"clues\", \"entidad_nacimiento\", \"municipio_nacimiento\",\\\n",
    "\"localidad_nacimiento\"]"
   ]
  },
  {
   "cell_type": "code",
   "execution_count": 35,
   "metadata": {},
   "outputs": [
    {
     "data": {
      "text/html": [
       "<div>\n",
       "<style scoped>\n",
       "    .dataframe tbody tr th:only-of-type {\n",
       "        vertical-align: middle;\n",
       "    }\n",
       "\n",
       "    .dataframe tbody tr th {\n",
       "        vertical-align: top;\n",
       "    }\n",
       "\n",
       "    .dataframe thead th {\n",
       "        text-align: right;\n",
       "    }\n",
       "</style>\n",
       "<table border=\"1\" class=\"dataframe\">\n",
       "  <thead>\n",
       "    <tr style=\"text-align: right;\">\n",
       "      <th></th>\n",
       "      <th>estado_conyugal_madre</th>\n",
       "      <th>escolaridad_madre</th>\n",
       "      <th>ocupacion_madre</th>\n",
       "      <th>edad_madre</th>\n",
       "      <th>fecha_nacimiento_vivo</th>\n",
       "      <th>hora_nacimiento_vivo</th>\n",
       "      <th>sexo_vivo</th>\n",
       "      <th>talla_vivo</th>\n",
       "      <th>peso_vivo</th>\n",
       "      <th>clues</th>\n",
       "      <th>entidad_nacimiento</th>\n",
       "      <th>municipio_nacimiento</th>\n",
       "      <th>localidad_nacimiento</th>\n",
       "    </tr>\n",
       "  </thead>\n",
       "  <tbody>\n",
       "    <tr>\n",
       "      <th>1383044</th>\n",
       "      <td>UNIÓN LIBRE</td>\n",
       "      <td>BACHILLERATO O PREPARATORIA COMPLETA</td>\n",
       "      <td>OTROS OPERADORES DE MAQUINARIA INDUSTRIAL, ENS...</td>\n",
       "      <td>27</td>\n",
       "      <td>08/06/2020</td>\n",
       "      <td>23:40</td>\n",
       "      <td>1</td>\n",
       "      <td>54</td>\n",
       "      <td>3400</td>\n",
       "      <td>DGIMS000042</td>\n",
       "      <td>10</td>\n",
       "      <td>5</td>\n",
       "      <td>1</td>\n",
       "    </tr>\n",
       "    <tr>\n",
       "      <th>336313</th>\n",
       "      <td>CASADA</td>\n",
       "      <td>LICENCIATURA O PROFESIONAL COMPLETO</td>\n",
       "      <td>TRABAJADORES DOMÉSTICOS, DE LIMPIEZA, PLANCHAD...</td>\n",
       "      <td>28</td>\n",
       "      <td>04/05/2020</td>\n",
       "      <td>06:58</td>\n",
       "      <td>1</td>\n",
       "      <td>48</td>\n",
       "      <td>2535</td>\n",
       "      <td>SLSMP001024</td>\n",
       "      <td>25</td>\n",
       "      <td>1</td>\n",
       "      <td>70</td>\n",
       "    </tr>\n",
       "    <tr>\n",
       "      <th>1672466</th>\n",
       "      <td>SOLTERA</td>\n",
       "      <td>SECUNDARIA COMPLETA</td>\n",
       "      <td>NO REMUNERADO, AMA DE CASA</td>\n",
       "      <td>21</td>\n",
       "      <td>19/05/2020</td>\n",
       "      <td>13:22</td>\n",
       "      <td>2</td>\n",
       "      <td>48</td>\n",
       "      <td>2990</td>\n",
       "      <td>JCSSA002212</td>\n",
       "      <td>14</td>\n",
       "      <td>39</td>\n",
       "      <td>1</td>\n",
       "    </tr>\n",
       "  </tbody>\n",
       "</table>\n",
       "</div>"
      ],
      "text/plain": [
       "        estado_conyugal_madre                     escolaridad_madre  \\\n",
       "1383044           UNIÓN LIBRE  BACHILLERATO O PREPARATORIA COMPLETA   \n",
       "336313                 CASADA   LICENCIATURA O PROFESIONAL COMPLETO   \n",
       "1672466               SOLTERA                   SECUNDARIA COMPLETA   \n",
       "\n",
       "                                           ocupacion_madre  edad_madre  \\\n",
       "1383044  OTROS OPERADORES DE MAQUINARIA INDUSTRIAL, ENS...          27   \n",
       "336313   TRABAJADORES DOMÉSTICOS, DE LIMPIEZA, PLANCHAD...          28   \n",
       "1672466                         NO REMUNERADO, AMA DE CASA          21   \n",
       "\n",
       "        fecha_nacimiento_vivo hora_nacimiento_vivo  sexo_vivo  talla_vivo  \\\n",
       "1383044            08/06/2020                23:40          1          54   \n",
       "336313             04/05/2020                06:58          1          48   \n",
       "1672466            19/05/2020                13:22          2          48   \n",
       "\n",
       "         peso_vivo        clues  entidad_nacimiento  municipio_nacimiento  \\\n",
       "1383044       3400  DGIMS000042                  10                     5   \n",
       "336313        2535  SLSMP001024                  25                     1   \n",
       "1672466       2990  JCSSA002212                  14                    39   \n",
       "\n",
       "         localidad_nacimiento  \n",
       "1383044                     1  \n",
       "336313                     70  \n",
       "1672466                     1  "
      ]
     },
     "execution_count": 35,
     "metadata": {},
     "output_type": "execute_result"
    }
   ],
   "source": [
    "data.sample(3)"
   ]
  },
  {
   "cell_type": "code",
   "execution_count": null,
   "metadata": {},
   "outputs": [],
   "source": []
  }
 ],
 "metadata": {
  "interpreter": {
   "hash": "91fded6cad38740f1e539e12633a0501faa5676c056fe6efe03de36f8799fcb8"
  },
  "kernelspec": {
   "display_name": "Python 3.10.0 64-bit ('test': conda)",
   "language": "python",
   "name": "python3"
  },
  "language_info": {
   "codemirror_mode": {
    "name": "ipython",
    "version": 3
   },
   "file_extension": ".py",
   "mimetype": "text/x-python",
   "name": "python",
   "nbconvert_exporter": "python",
   "pygments_lexer": "ipython3",
   "version": "3.10.0"
  },
  "orig_nbformat": 4
 },
 "nbformat": 4,
 "nbformat_minor": 2
}
